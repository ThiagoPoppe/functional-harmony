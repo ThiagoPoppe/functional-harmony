{
 "cells": [
  {
   "cell_type": "code",
   "execution_count": 1,
   "id": "ff8d20bb-992f-49e8-ae17-8b6c474cdb45",
   "metadata": {},
   "outputs": [
    {
     "name": "stdout",
     "output_type": "stream",
     "text": [
      "Total number of raw data: 26178\n",
      "Total number of processed data: 26175\n"
     ]
    }
   ],
   "source": [
    "import json\n",
    "\n",
    "with open('/storage/datasets/thiago.poppe/HookTheory/sheetsage_raw.json', 'r') as fp:\n",
    "    raw = json.load(fp)\n",
    "    \n",
    "with open('/storage/datasets/thiago.poppe/HookTheory/sheetsage_processed.json', 'r') as fp:\n",
    "    processed = json.load(fp)\n",
    "\n",
    "print('Total number of raw data:', len(raw))\n",
    "print('Total number of processed data:', len(processed))"
   ]
  },
  {
   "cell_type": "markdown",
   "id": "d2ad653d-0d2a-4f95-a70c-22f9d4bf471f",
   "metadata": {},
   "source": [
    "Fazendo com que ambos dados possuam os mesmos ids."
   ]
  },
  {
   "cell_type": "code",
   "execution_count": 2,
   "id": "03182e3e-5003-49fe-8389-40633e898ae8",
   "metadata": {},
   "outputs": [
    {
     "name": "stdout",
     "output_type": "stream",
     "text": [
      "Total number of raw data: 26175\n",
      "Total number of processed data: 26175\n"
     ]
    }
   ],
   "source": [
    "common_ids = set(raw.keys()) & set(processed.keys())\n",
    "\n",
    "raw = {key: raw[key] for key in common_ids}\n",
    "processed = {key: processed[key] for key in common_ids}\n",
    "\n",
    "print('Total number of raw data:', len(raw))\n",
    "print('Total number of processed data:', len(processed))"
   ]
  },
  {
   "cell_type": "markdown",
   "id": "a56c5733-038f-4ce3-aa34-22784bf8572b",
   "metadata": {},
   "source": [
    "## Filtrando músicas com áudio, harmonia e bem comportadas\n",
    "\n",
    "> Músicas bem comportadas serão aquelas que não possuem mudanças de ritmo.\n",
    ">\n",
    "> Iremos trabalhar apenas com músicas que seguem o formato métrico 4/4 e que possuem apenas escalas maiores e menores. Além de músicas que possuem empréstimos de acordes das escalas: modos gregos, menor harmônica e frígio dominante."
   ]
  },
  {
   "cell_type": "code",
   "execution_count": 3,
   "id": "47e0f928-5fe5-42db-b03c-141e163be0d9",
   "metadata": {},
   "outputs": [
    {
     "name": "stdout",
     "output_type": "stream",
     "text": [
      "Total number of songs: 26175\n",
      "Number of workable song excerpts: 16346\n"
     ]
    }
   ],
   "source": [
    "def is_workable(song_id):\n",
    "    possible_borrowing = [None, '', 'major', 'dorian', 'phrygian', 'lydian',\n",
    "                          'mixolydian', 'minor', 'locrian', 'harmonicMinor', 'phrygianDominant']\n",
    "\n",
    "    for tag in ['METER_CHANGES', 'SWING_CHANGES', 'TEMPO_CHANGES']:\n",
    "        if tag in processed[song_id]['tags']:\n",
    "            return False\n",
    "\n",
    "    for tag in ['NO_SWING', 'AUDIO_AVAILABLE', 'HARMONY']:\n",
    "        if tag not in processed[song_id]['tags']:\n",
    "            return False\n",
    "\n",
    "    meter = processed[song_id]['annotations']['meters'][0]\n",
    "    if meter['beats_per_bar'] != 4 or meter['beat_unit'] != 4:\n",
    "        return False\n",
    "\n",
    "    for key in raw[song_id]['json']['keys']:\n",
    "        if key['scale'] not in ('minor', 'major'):\n",
    "            return False\n",
    "\n",
    "    for chord in raw[song_id]['json']['chords']:\n",
    "        if chord['borrowed'] not in possible_borrowing:\n",
    "            return False\n",
    "    \n",
    "    return True\n",
    "\n",
    "workable_ids = set()\n",
    "for song_id, song in processed.items():\n",
    "    if is_workable(song_id):\n",
    "        workable_ids.add(song_id)\n",
    "\n",
    "print('Total number of songs:', len(processed))\n",
    "print('Number of workable song excerpts:', len(workable_ids))"
   ]
  },
  {
   "cell_type": "code",
   "execution_count": 4,
   "id": "0f4b2c76-b2d6-4488-a0d4-7704e106eb45",
   "metadata": {},
   "outputs": [],
   "source": [
    "raw = {key: raw[key] for key in workable_ids}\n",
    "processed = {key: processed[key] for key in workable_ids}"
   ]
  },
  {
   "cell_type": "markdown",
   "id": "e7c25e1a",
   "metadata": {},
   "source": [
    "Antes de prosseguirmos, iremos processar a lista de tons de cada música, criando um **onset** e **offset** para cada tonalidade."
   ]
  },
  {
   "cell_type": "code",
   "execution_count": 5,
   "id": "5aba3c74",
   "metadata": {},
   "outputs": [
    {
     "name": "stdout",
     "output_type": "stream",
     "text": [
      "Número total de batidas da música: 72\n",
      "\n",
      "Tonalidades da música cruas:\n",
      " - {'beat': 1, 'scale': 'major', 'tonic': 'A'}\n",
      " - {'beat': 33, 'scale': 'major', 'tonic': 'C'}\n",
      "\n",
      "Tonalidades da música processadas:\n",
      " - {'beat': 0, 'tonic_pitch_class': 9, 'scale_degree_intervals': [2, 2, 1, 2, 2, 2]}\n",
      " - {'beat': 32, 'tonic_pitch_class': 0, 'scale_degree_intervals': [2, 2, 1, 2, 2, 2]}\n"
     ]
    }
   ],
   "source": [
    "song_id = 'Rzoj_DaMmDe'  # apenas um song_id de exemplo para vermos a construção das tonalidades\n",
    "\n",
    "print('Número total de batidas da música:', processed[song_id]['annotations']['num_beats'])\n",
    "\n",
    "print('\\nTonalidades da música cruas:')\n",
    "for key in raw[song_id]['json']['keys']:\n",
    "    print(f' - {key}')\n",
    "\n",
    "print('\\nTonalidades da música processadas:')\n",
    "for key in processed[song_id]['annotations']['keys']:\n",
    "    print(f' - {key}')"
   ]
  },
  {
   "cell_type": "code",
   "execution_count": 6,
   "id": "1c1fa923",
   "metadata": {},
   "outputs": [],
   "source": [
    "for song_id in processed.keys():\n",
    "    new_keys = []\n",
    "    raw_keys = raw[song_id]['json']['keys']\n",
    "    processed_keys = processed[song_id]['annotations']['keys']\n",
    "    \n",
    "    for i in range(len(processed_keys) - 1):\n",
    "        new_keys.append({\n",
    "            'onset': processed_keys[i]['beat'],\n",
    "            'offset': processed_keys[i-1]['beat'],\n",
    "            'mode': raw_keys[i]['scale'],\n",
    "            'tonic': raw_keys[i]['tonic'],\n",
    "            'tonic_pitch_class': processed_keys[i]['tonic_pitch_class'],\n",
    "        })\n",
    "        \n",
    "    # Processando a última tonalidade separadamente\n",
    "    new_keys.append({\n",
    "        'onset': processed_keys[-1]['beat'],\n",
    "        'offset': processed[song_id]['annotations']['num_beats'],\n",
    "        'mode': raw_keys[-1]['scale'],\n",
    "        'tonic': raw_keys[-1]['tonic'],\n",
    "        'tonic_pitch_class': processed_keys[-1]['tonic_pitch_class'],\n",
    "    })\n",
    "\n",
    "    processed[song_id]['annotations']['keys'] = new_keys"
   ]
  },
  {
   "cell_type": "code",
   "execution_count": 7,
   "id": "09694ffc",
   "metadata": {},
   "outputs": [
    {
     "name": "stdout",
     "output_type": "stream",
     "text": [
      "Número total de batidas da música: 72\n",
      "\n",
      "Tonalidades da música:\n",
      " - {'onset': 0, 'offset': 32, 'mode': 'major', 'tonic': 'A', 'tonic_pitch_class': 9}\n",
      " - {'onset': 32, 'offset': 72, 'mode': 'major', 'tonic': 'C', 'tonic_pitch_class': 0}\n"
     ]
    }
   ],
   "source": [
    "song_id = 'Rzoj_DaMmDe'  # apenas um song_id de exemplo para vermos a construção das tonalidades\n",
    "\n",
    "print('Número total de batidas da música:', processed[song_id]['annotations']['num_beats'])\n",
    "\n",
    "print('\\nTonalidades da música:')\n",
    "for key in processed[song_id]['annotations']['keys']:\n",
    "    print(f' - {key}')"
   ]
  },
  {
   "cell_type": "markdown",
   "id": "00a30998-1f41-4ecf-b9cb-102cc3756901",
   "metadata": {},
   "source": [
    "## Filtrando apenas músicas dos *The Beatles*"
   ]
  },
  {
   "cell_type": "code",
   "execution_count": 8,
   "id": "d5d5dc9b-5ea5-4a52-afe1-3311a0bc76ae",
   "metadata": {},
   "outputs": [
    {
     "name": "stdout",
     "output_type": "stream",
     "text": [
      "Number of The Beatles song excerpts: 169\n"
     ]
    }
   ],
   "source": [
    "def get_artist(song):\n",
    "    return song['hooktheory']['artist']\n",
    "\n",
    "beatles_ids = set()\n",
    "for song_id, song in processed.items():\n",
    "    artist = get_artist(song)\n",
    "\n",
    "    if artist == 'the-beatles':\n",
    "        beatles_ids.add(song_id)\n",
    "\n",
    "print('Number of The Beatles song excerpts:', len(beatles_ids))"
   ]
  },
  {
   "cell_type": "code",
   "execution_count": 9,
   "id": "966834b5-6925-400e-8415-e1deb8047007",
   "metadata": {},
   "outputs": [],
   "source": [
    "raw = {key: raw[key] for key in beatles_ids}\n",
    "processed = {key: processed[key] for key in beatles_ids}"
   ]
  },
  {
   "cell_type": "markdown",
   "id": "b0a70090-f2a8-4cdf-bbc7-98caf499e4e6",
   "metadata": {},
   "source": [
    "### Verificando o tempo médio dos trechos das músicas"
   ]
  },
  {
   "cell_type": "code",
   "execution_count": 10,
   "id": "df71e1da-30cc-4321-bfde-0dc0c1e8f112",
   "metadata": {},
   "outputs": [
    {
     "name": "stdout",
     "output_type": "stream",
     "text": [
      "Excerpt mean duration (in seconds): 18.52\n",
      "Excerpt standard deviation (in seconds): 8.98\n"
     ]
    }
   ],
   "source": [
    "import numpy as np\n",
    "\n",
    "def get_song_alignment_times(processed_song):\n",
    "    alignment = 'refined' if 'REFINED_ALIGNMENT' in processed_song['tags'] else 'user'\n",
    "    start = processed_song['alignment'][alignment]['times'][0]\n",
    "    end = processed_song['alignment'][alignment]['times'][-1]\n",
    "\n",
    "    return start, end\n",
    "\n",
    "durations = []\n",
    "for song in processed.values():\n",
    "    start, end = get_song_alignment_times(song)\n",
    "    durations.append(end - start)\n",
    "\n",
    "print(f'Excerpt mean duration (in seconds): {np.mean(durations):.2f}')\n",
    "print(f'Excerpt standard deviation (in seconds): {np.std(durations, ddof=1):.2f}')"
   ]
  },
  {
   "cell_type": "markdown",
   "id": "1a99c57f-f945-4edf-8b61-5b893dcef3dd",
   "metadata": {},
   "source": [
    "## Olhando as informações de ambos dicionários\n",
    "\n",
    "> Para uma análise melhor, iremos focar em um acorde que possui `applied` (*tonicization*)."
   ]
  },
  {
   "cell_type": "code",
   "execution_count": 11,
   "id": "f2570d76-ecbe-4f53-914b-587d14d3c2f1",
   "metadata": {},
   "outputs": [
    {
     "data": {
      "text/plain": [
       "[{'onset': 0,\n",
       "  'offset': 20,\n",
       "  'mode': 'major',\n",
       "  'tonic': 'F',\n",
       "  'tonic_pitch_class': 5}]"
      ]
     },
     "execution_count": 11,
     "metadata": {},
     "output_type": "execute_result"
    }
   ],
   "source": [
    "song_id = 'VMgJOneyxqK'\n",
    "processed[song_id]['annotations']['keys']"
   ]
  },
  {
   "cell_type": "code",
   "execution_count": 12,
   "id": "cbb29fc9-2736-4d86-b893-26a69c33dda3",
   "metadata": {},
   "outputs": [
    {
     "name": "stdout",
     "output_type": "stream",
     "text": [
      "F major scale:   ['F', 'G', 'A', 'B-', 'C', 'D', 'E']\n",
      "Chromatic scale: ['C', 'C#', 'D', 'E-', 'E', 'F', 'F#', 'G', 'A-', 'A', 'B-', 'B']\n"
     ]
    }
   ],
   "source": [
    "from music21.scale import MajorScale, ChromaticScale\n",
    "\n",
    "print('F major scale:  ', [p.name for p in MajorScale('F').getPitches()][:-1])\n",
    "print('Chromatic scale:', [p.name for p in ChromaticScale('C').getPitches()][:-1])"
   ]
  },
  {
   "cell_type": "code",
   "execution_count": 13,
   "id": "47bcbe8a-090d-4d86-b01a-018b580747dc",
   "metadata": {},
   "outputs": [
    {
     "name": "stdout",
     "output_type": "stream",
     "text": [
      "Processed root pitch classes: [0, 5, 0, 2]\n",
      "Raw root and applied classes: [(5, 0), (1, 0), (5, 0), (2, 5)]\n"
     ]
    }
   ],
   "source": [
    "print('Processed root pitch classes:', [chord['root_pitch_class'] for chord in processed[song_id]['annotations']['harmony']])\n",
    "print('Raw root and applied classes:', [(chord['root'], chord['applied']) for chord in raw[song_id]['json']['chords']])"
   ]
  },
  {
   "cell_type": "markdown",
   "id": "a07316b7-4b97-465e-99db-0cfc1298751f",
   "metadata": {},
   "source": [
    "- Para a música `VMgJOneyxqK` ([Sgt. Pepper's](https://hookpad.hooktheory.com/?idOfSong=VMgJOneyxqK)), temos a seguinte progressão: $\\mathbf{V}^7 - \\mathbf{I} - \\mathbf{V}^7 - \n",
    "\\mathbf{V}^7/\\mathbf{ii}$, traduzindo nos acordes: $\\mathbf{C}^7 - \\mathbf{F} - \\mathbf{C}^7 - \\mathbf{D}^7$, lembrando que estamos no tom de **Fá maior**.\n",
    "\n",
    "> **Importante:** Podemos perceber então que a anotação crua possui a seguinte sintaxe: `tonicization/degree`, onde `degree` é obtido a partir da escala de Fá maior (indexando a partir de 1). Já a anotação processada, descarta a parte de tonificação e decodifica a fundamental do acorde obtido a partir da escala cromática começando de dó (indexando a partir de 0)."
   ]
  },
  {
   "cell_type": "code",
   "execution_count": 14,
   "id": "ba5feb6e-6c69-44f8-bae7-538185209d82",
   "metadata": {},
   "outputs": [
    {
     "name": "stdout",
     "output_type": "stream",
     "text": [
      "Raw chords:\n",
      "{'root': 5, 'beat': 1, 'duration': 4, 'type': 7, 'inversion': 0, 'applied': 0, 'adds': [], 'omits': [], 'alterations': [], 'suspensions': [], 'pedal': None, 'alternate': '', 'borrowed': '', 'isRest': False, 'recordingEndBeat': None}\n",
      "{'root': 1, 'beat': 5, 'duration': 4, 'type': 5, 'inversion': 0, 'applied': 0, 'adds': [], 'omits': [], 'alterations': [], 'suspensions': [], 'pedal': None, 'alternate': '', 'borrowed': '', 'isRest': False, 'recordingEndBeat': None}\n",
      "{'root': 5, 'beat': 9, 'duration': 4, 'type': 7, 'inversion': 0, 'applied': 0, 'adds': [], 'omits': [], 'alterations': [], 'suspensions': [], 'pedal': None, 'alternate': '', 'borrowed': '', 'isRest': False, 'recordingEndBeat': None}\n",
      "{'root': 2, 'beat': 13, 'duration': 8, 'type': 7, 'inversion': 0, 'applied': 5, 'adds': [], 'omits': [], 'alterations': [], 'suspensions': [], 'pedal': None, 'alternate': '', 'borrowed': '', 'isRest': False, 'recordingEndBeat': None}\n",
      "\n",
      "Processed chords:\n",
      "{'onset': 0, 'offset': 4, 'root_pitch_class': 0, 'root_position_intervals': [4, 3, 3], 'inversion': 0}\n",
      "{'onset': 4, 'offset': 8, 'root_pitch_class': 5, 'root_position_intervals': [4, 3], 'inversion': 0}\n",
      "{'onset': 8, 'offset': 12, 'root_pitch_class': 0, 'root_position_intervals': [4, 3, 3], 'inversion': 0}\n",
      "{'onset': 12, 'offset': 20, 'root_pitch_class': 2, 'root_position_intervals': [4, 3, 3], 'inversion': 0}\n"
     ]
    }
   ],
   "source": [
    "print('Raw chords:')\n",
    "for chord in raw[song_id]['json']['chords']:\n",
    "    print(chord)\n",
    "\n",
    "print('\\nProcessed chords:')\n",
    "for chord in processed[song_id]['annotations']['harmony']:\n",
    "    print(chord)"
   ]
  },
  {
   "cell_type": "markdown",
   "id": "b34548a5-af82-4741-a38a-5294907c377d",
   "metadata": {},
   "source": [
    "> **Importante:** Note que os acordes processados apenas focam na fundamental do acorde (após a aplicação da tonificação), na inversão (que é a mesma que o dado cru) e na qualidade do acorde traduzida como semitons, onde por exemplo: `[4, 3]` representa um acorde maior (intervalos de terça maior e terça menor) e `[4, 3, 3]` um acorde maior com sétima menor (intervalos de terça maior, terça menor e terça menor). Sendo assim, podemos obter uma qualidade refinada (observar todos os intervalos) ou uma qualidade superficial (observar os 2 ou 3 primeiros intervalos)."
   ]
  },
  {
   "cell_type": "markdown",
   "id": "a9b5c890-5afb-43c5-9847-c70d4f270bf1",
   "metadata": {},
   "source": [
    "Para a música `JkmZYerZoqn` ([Let It Be](https://hookpad.hooktheory.com/?idOfSong=JkmZYerZoqn)), percebemos que temos empréstimos modais ao longo da música. O tom da música é Dó maior, porém temos a presença de um acorde $\\flat \\text{VII}$, ou $\\text{B}\\flat$, que não faz parte da escala de Dó maior, mas sim da escala de Dó menor, bem como da escala de Dó mixolídio e Dó dórico. A anotação foi feita realizando um empréstimo de Dó menor, mas isso não é um problema, já que em todas as escalas citadas anteriormente teremos um $\\flat\\text{VII}$.\n",
    "\n",
    "- Apenas por curiosidade, temos as 3 escalas abaixo (tomando como referência a escala de dó maior):\n",
    "    - **Dó maior**: $\\text{I}-\\text{ii}-\\text{iii}-\\text{IV}-\\text{V}-\\text{vi}-\\textcolor{red}{\\text{vii}\\degree} \\rightarrow \\text{C}-\\text{Dm}-\\text{Em}-\\text{F}-\\text{G}-\\text{Am}-\\textcolor{red}{\\text{B}\\degree}$\n",
    "       \n",
    "    - **Dó menor**: $\\text{i}-\\text{ii}\\degree-\\flat\\text{III}-\\text{iv}-\\text{v}-\\flat\\text{VI}-\\textcolor{lightgreen}{\\flat\\text{VII}} \\rightarrow \\text{Cm}-\\text{D}\\degree-\\text{E}\\flat-\\text{Fm}-\\text{Gm}-\\text{A}\\flat-\\textcolor{lightgreen}{\\text{B}\\flat}$\n",
    "       \n",
    "    - **Dó dórico**: $\\text{i}-\\text{ii}-\\flat\\text{III}-\\text{IV}-\\text{v}-\\text{vi}\\degree-\\textcolor{lightgreen}{\\flat\\text{VII}} \\rightarrow \\text{Cm}-\\text{Dm}-\\text{E}\\flat-\\text{F}-\\text{Gm}-\\text{A}\\degree-\\textcolor{lightgreen}{\\text{B}\\flat}$\n",
    "       \n",
    "    - **Dó mixolídio**: $\\text{I}-\\text{ii}-\\text{iii}\\degree-\\text{IV}-\\text{v}-\\text{vi}-\\textcolor{lightgreen}{\\flat\\text{VII}} \\rightarrow \\text{C}-\\text{Dm}-\\text{E}\\degree-\\text{F}-\\text{Gm}-\\text{Am}-\\textcolor{lightgreen}{\\text{B}\\flat}$\n",
    "\n",
    "\n",
    "> **Importante:** o empréstimo vai apenas dizer se aquele grau é $\\sharp$ ou $\\flat$."
   ]
  },
  {
   "cell_type": "code",
   "execution_count": 15,
   "id": "bed7a1e3-734f-4d90-bda4-94efe03e5ba3",
   "metadata": {},
   "outputs": [
    {
     "data": {
      "text/plain": [
       "[{'onset': 0,\n",
       "  'offset': 16,\n",
       "  'mode': 'major',\n",
       "  'tonic': 'C',\n",
       "  'tonic_pitch_class': 0}]"
      ]
     },
     "execution_count": 15,
     "metadata": {},
     "output_type": "execute_result"
    }
   ],
   "source": [
    "song_id = 'JkmZYerZoqn'\n",
    "processed[song_id]['annotations']['keys']"
   ]
  },
  {
   "cell_type": "code",
   "execution_count": 16,
   "id": "e9501978",
   "metadata": {},
   "outputs": [
    {
     "name": "stdout",
     "output_type": "stream",
     "text": [
      "Raw chords:\n",
      "{'root': 4, 'beat': 1, 'duration': 2, 'type': 5, 'inversion': 0, 'applied': 0, 'adds': [], 'omits': [], 'alterations': [], 'suspensions': [], 'pedal': None, 'alternate': '', 'borrowed': '', 'isRest': False, 'recordingEndBeat': None}\n",
      "{'root': 3, 'beat': 3, 'duration': 1, 'type': 5, 'inversion': 0, 'applied': 0, 'adds': [], 'omits': [], 'alterations': [], 'suspensions': [], 'pedal': None, 'alternate': '', 'borrowed': '', 'isRest': False, 'recordingEndBeat': None}\n",
      "{'root': 2, 'beat': 4, 'duration': 1, 'type': 5, 'inversion': 0, 'applied': 0, 'adds': [], 'omits': [], 'alterations': [], 'suspensions': [], 'pedal': None, 'alternate': '', 'borrowed': '', 'isRest': False, 'recordingEndBeat': None}\n",
      "{'root': 1, 'beat': 5, 'duration': 2, 'type': 5, 'inversion': 0, 'applied': 0, 'adds': [], 'omits': [], 'alterations': [], 'suspensions': [], 'pedal': None, 'alternate': '', 'borrowed': '', 'isRest': False, 'recordingEndBeat': None}\n",
      "{'root': 7, 'beat': 7, 'duration': 1, 'type': 5, 'inversion': 0, 'applied': 0, 'adds': [], 'omits': [], 'alterations': [], 'suspensions': [], 'pedal': None, 'alternate': '', 'borrowed': 'minor', 'isRest': False, 'recordingEndBeat': None}\n",
      "{'root': 6, 'beat': 8, 'duration': 1, 'type': 5, 'inversion': 0, 'applied': 0, 'adds': [], 'omits': [], 'alterations': [], 'suspensions': [], 'pedal': None, 'alternate': '', 'borrowed': '', 'isRest': False, 'recordingEndBeat': None}\n",
      "{'root': 5, 'beat': 9, 'duration': 2, 'type': 5, 'inversion': 0, 'applied': 0, 'adds': [], 'omits': [], 'alterations': [], 'suspensions': [], 'pedal': None, 'alternate': '', 'borrowed': '', 'isRest': False, 'recordingEndBeat': None}\n",
      "{'root': 4, 'beat': 11, 'duration': 2, 'type': 5, 'inversion': 0, 'applied': 0, 'adds': [], 'omits': [], 'alterations': [], 'suspensions': [], 'pedal': None, 'alternate': '', 'borrowed': '', 'isRest': False, 'recordingEndBeat': None}\n",
      "{'root': 1, 'beat': 13, 'duration': 4, 'type': 5, 'inversion': 0, 'applied': 0, 'adds': [], 'omits': [], 'alterations': [], 'suspensions': [], 'pedal': None, 'alternate': '', 'borrowed': '', 'isRest': False, 'recordingEndBeat': None}\n",
      "\n",
      "Processed chords:\n",
      "{'onset': 0, 'offset': 2, 'root_pitch_class': 5, 'root_position_intervals': [4, 3], 'inversion': 0}\n",
      "{'onset': 2, 'offset': 3, 'root_pitch_class': 4, 'root_position_intervals': [3, 4], 'inversion': 0}\n",
      "{'onset': 3, 'offset': 4, 'root_pitch_class': 2, 'root_position_intervals': [3, 4], 'inversion': 0}\n",
      "{'onset': 4, 'offset': 6, 'root_pitch_class': 0, 'root_position_intervals': [4, 3], 'inversion': 0}\n",
      "{'onset': 6, 'offset': 7, 'root_pitch_class': 10, 'root_position_intervals': [4, 3], 'inversion': 0}\n",
      "{'onset': 7, 'offset': 8, 'root_pitch_class': 9, 'root_position_intervals': [3, 4], 'inversion': 0}\n",
      "{'onset': 8, 'offset': 10, 'root_pitch_class': 7, 'root_position_intervals': [4, 3], 'inversion': 0}\n",
      "{'onset': 10, 'offset': 12, 'root_pitch_class': 5, 'root_position_intervals': [4, 3], 'inversion': 0}\n",
      "{'onset': 12, 'offset': 16, 'root_pitch_class': 0, 'root_position_intervals': [4, 3], 'inversion': 0}\n"
     ]
    }
   ],
   "source": [
    "print('Raw chords:')\n",
    "for chord in raw[song_id]['json']['chords']:\n",
    "    print(chord)\n",
    "\n",
    "print('\\nProcessed chords:')\n",
    "for chord in processed[song_id]['annotations']['harmony']:\n",
    "    print(chord)"
   ]
  },
  {
   "cell_type": "markdown",
   "id": "c1d44a14",
   "metadata": {},
   "source": [
    "### Criação de estrutura auxiliar para recuperar os acidentes do empréstimo"
   ]
  },
  {
   "cell_type": "code",
   "execution_count": 17,
   "id": "5b23b61b",
   "metadata": {},
   "outputs": [],
   "source": [
    "borrowed_accidentals = {\n",
    "    'major': {\n",
    "        'major': ['', '', '', '', '', '', ''],\n",
    "        'dorian': ['', '', 'b', '', '', '', 'b'],\n",
    "        'phrygian': ['', 'b', 'b', '', '', 'b', 'b'],\n",
    "        'lydian': ['', '', '', '#', '', '', ''],\n",
    "        'mixolydian': ['', '', '', '', '', '', 'b'],\n",
    "        'minor': ['', '', 'b', '', '', 'b', 'b'],\n",
    "        'locrian': ['', 'b', 'b', '', 'b', 'b', 'b'],\n",
    "        'harmonicMinor': ['', '', 'b', '', '', 'b', ''],\n",
    "        'phrygianDominant': ['', 'b', '', '', '', 'b', 'b']\n",
    "    },\n",
    "    'minor': {\n",
    "        'major': ['', '', '#', '', '', '#', '#'],\n",
    "        'dorian': ['', '', '', '', '', '#', ''],\n",
    "        'phrygian': ['', 'b', '', '', '', '', ''],\n",
    "        'lydian': ['', '', '#', '#', '', '#', '#'],\n",
    "        'mixolydian': ['', '', '#', '', '', '#', ''],\n",
    "        'minor': ['', '', '', '', '', '', ''],\n",
    "        'locrian': ['', 'b', '', '', 'b', '', ''],\n",
    "        'harmonicMinor': ['', '', '', '', '', '', '#'],\n",
    "        'phrygianDominant': ['', 'b', '#', '', '', '', '']\n",
    "    }\n",
    "}"
   ]
  },
  {
   "cell_type": "code",
   "execution_count": 18,
   "id": "52b089c6",
   "metadata": {},
   "outputs": [
    {
     "name": "stdout",
     "output_type": "stream",
     "text": [
      "Db major accidentals: ['b', 'b', '', 'b', 'b', 'b', '']\n",
      "Harmonic minor borrowed accidentals (on top of existing ones): ['', '', 'b', '', '', 'b', '']\n"
     ]
    }
   ],
   "source": [
    "from music21.scale import MajorScale\n",
    "\n",
    "db_major_scale = [p.name for p in MajorScale('Db').getPitches()][:-1]\n",
    "db_major_accidentals = ['' if len(note) == 1 else note[-1].replace('-', 'b') for note in db_major_scale]\n",
    "\n",
    "print('Db major accidentals:', db_major_accidentals)\n",
    "print('Harmonic minor borrowed accidentals (on top of existing ones):', borrowed_accidentals['major']['harmonicMinor'])"
   ]
  },
  {
   "cell_type": "code",
   "execution_count": 19,
   "id": "3ae8fdee",
   "metadata": {},
   "outputs": [],
   "source": [
    "# from music21.scale import (\n",
    "#     MajorScale, DorianScale, PhrygianScale, LydianScale,\n",
    "#     MixolydianScale, MinorScale, LocrianScale, HarmonicMinorScale\n",
    "# )\n",
    "\n",
    "# from music21.analysis.enharmonics import EnharmonicSimplifier\n",
    "\n",
    "# def build_scale(tonic, name):\n",
    "#     scale_mapping = {\n",
    "#         'major': MajorScale,\n",
    "#         'dorian': DorianScale,\n",
    "#         'phrygian': PhrygianScale,\n",
    "#         'lydian': LydianScale,\n",
    "#         'mixolydian': MixolydianScale,\n",
    "#         'minor': MinorScale,\n",
    "#         'locrian': LocrianScale,\n",
    "#         'harmonicMinor': HarmonicMinorScale\n",
    "#     }\n",
    "\n",
    "#     if name == 'phrygianDominant':  # frígio dominante é o 5º modo da escala menor harmônica\n",
    "#         scale = [p.name for p in HarmonicMinorScale().deriveByDegree(5, tonic).getPitches()][:-1]\n",
    "#         scale = np.roll(scale, shift=-4).tolist()\n",
    "#     else:\n",
    "#         scale = [p.name for p in scale_mapping[name](tonic).getPitches()][:-1]\n",
    "\n",
    "#     scale = [p.name for p in EnharmonicSimplifier(scale).bestPitches()]  # resolvendo enarmônicos\n",
    "#     scale = list(map(lambda p: p.replace('-', 'b'), scale))  # convertendo - para bemól\n",
    "    \n",
    "#     return scale\n",
    "\n",
    "# print('F harmonic minor:   ', build_scale('F', 'harmonicMinor'))\n",
    "# print('C phrygian dominant:', build_scale('C', 'phrygianDominant'))"
   ]
  },
  {
   "cell_type": "code",
   "execution_count": 20,
   "id": "9dee5673",
   "metadata": {},
   "outputs": [],
   "source": [
    "# def get_scale_accidentals(scale):\n",
    "#     return ['' if len(note) == 1 else note[-1] for note in scale]\n",
    "\n",
    "# def get_borrowed_scale_accidentals_relationship(reference_scale, borrowed_scale):\n",
    "#     reference_accidentals = get_scale_accidentals(reference_scale)\n",
    "#     borrowed_accidentals = get_scale_accidentals(borrowed_scale)\n",
    "\n",
    "#     accidental2value = {'b': -1, '': 0, '#': 1}\n",
    "#     reference_accidentals = list(map(lambda a: accidental2value[a], reference_accidentals))\n",
    "#     borrowed_accidentals = list(map(lambda a: accidental2value[a], borrowed_accidentals))\n",
    "\n",
    "#     value2accidental = {-1: 'b', 0: '', '#': 1}\n",
    "#     relationship = [value2accidental[a2 - a1] for a1, a2 in zip(reference_accidentals, borrowed_accidentals)]\n",
    "\n",
    "#     return relationship\n",
    "\n",
    "# reference = build_scale('Db', 'major')\n",
    "# borrowed = build_scale('Db', 'locrian')\n",
    "\n",
    "# print('Db major accidentals:           ', get_scale_accidentals(reference))\n",
    "# print('Db locrian accidentals:         ', get_scale_accidentals(borrowed))\n",
    "# print('Scale accidentals relationship:', get_borrowed_scale_accidentals_relationship(reference, borrowed))"
   ]
  },
  {
   "cell_type": "code",
   "execution_count": 21,
   "id": "8eb555f9",
   "metadata": {},
   "outputs": [],
   "source": [
    "# print('F harmonic minor accidentals:   ', get_scale_accidentals(build_scale('F', 'harmonicMinor')))\n",
    "# print('C phrygian dominant accidentals:', get_scale_accidentals(build_scale('C', 'phrygianDominant')))"
   ]
  },
  {
   "cell_type": "markdown",
   "id": "b41c58d1-7644-4194-9fab-508d5f89b916",
   "metadata": {
    "jp-MarkdownHeadingCollapsed": true
   },
   "source": [
    "### Construíndo um acorde que combina ambos dicionários\n",
    "\n",
    "Primeiramente iremos observar quais tipos de acorde a gente tem na base de dados.\n",
    "\n",
    "Podemos usar a flag `simplify_quality`, para usar uma anotação simplificada dos acordes, trabalhando com menos variação de acordes."
   ]
  },
  {
   "cell_type": "code",
   "execution_count": 22,
   "id": "5cd18237",
   "metadata": {},
   "outputs": [],
   "source": [
    "import matplotlib.pyplot as plt\n",
    "from collections import defaultdict\n",
    "\n",
    "simplify_quality = True\n",
    "\n",
    "_INTERVALS_TO_QUALITY = {\n",
    "    (4, 3): \"maj\",  # Major\n",
    "    (3, 4): \"m\",  # Minor\n",
    "    (3, 4, 3): \"m7\",  # Minor 7\n",
    "    (4, 3, 3): \"7\",  # 7\n",
    "    (4, 3, 4): \"maj7\",  # Major 7\n",
    "    (5, 2): \"sus4\",  # Sus 4\n",
    "    (4, 3, 7): \"add9\",  # Add 9\n",
    "    (3, 3): \"dim\",  # Dim\n",
    "    (3, 3, 4): \"m7(b5)\",  # Dim minor 7\n",
    "    (2, 5): \"sus2\",  # Sus 2\n",
    "    (5, 2, 3): \"7sus4\",  # 7 Sus 4\n",
    "    (3, 4, 3, 4): \"m9\",  # Minor 9\n",
    "    (4, 3, 4, 3): \"maj9\",  # Major 9\n",
    "    (2, 5, 3): \"7sus2\",  # 7 Sus 2\n",
    "    (3, 4, 7): \"m(add9)\",  # Minor Add 9\n",
    "    (3, 3, 3): \"dim7\",  # Dim 7\n",
    "    (2, 5, 4): \"maj7sus2\",  # Major 7 Sus 2\n",
    "    (4, 3, 3, 4): \"9\",  # 9\n",
    "    (2, 3, 2): \"sus2sus4\",  # Sus 2 Sus 4\n",
    "    (4, 4): \"(#5)\",  # Aug\n",
    "}\n",
    "\n",
    "_INTERVALS_TO_FAMILY = {\n",
    "    (4, 3): 'maj',\n",
    "    (3, 4): 'm',\n",
    "    (3, 4, 3): 'm7',\n",
    "    (4, 3, 3): '7',\n",
    "    (4, 3, 4): 'maj7',\n",
    "    (5, 2): 'sus',\n",
    "    (3, 3): 'dim',\n",
    "    (4, 4): 'aug'\n",
    "}"
   ]
  },
  {
   "cell_type": "code",
   "execution_count": 23,
   "id": "51379a2f",
   "metadata": {},
   "outputs": [],
   "source": [
    "def get_chord_quality(chord, simplify_quality):\n",
    "    quality = '<unk>'\n",
    "    intervals = tuple(chord['root_position_intervals'])\n",
    "    qualities = _INTERVALS_TO_FAMILY if simplify_quality else _INTERVALS_TO_QUALITY\n",
    "\n",
    "    if intervals in qualities:\n",
    "        quality = qualities[intervals]\n",
    "\n",
    "    return quality\n",
    "\n",
    "\n",
    "counter = defaultdict(lambda: 0)\n",
    "\n",
    "for song in processed.values():\n",
    "    for chord in song['annotations']['harmony']:\n",
    "        quality = get_chord_quality(chord, simplify_quality)\n",
    "        counter[quality] += 1\n",
    "\n",
    "total_counter = sum(counter.values())\n",
    "counter = {k: 100 * (v / total_counter) for k, v in counter.items()}\n",
    "counter = {k: v for k, v in sorted(counter.items(), key=lambda p: p[1], reverse=True)}"
   ]
  },
  {
   "cell_type": "code",
   "execution_count": 24,
   "id": "2fe0559d",
   "metadata": {},
   "outputs": [
    {
     "data": {
      "image/png": "[encoded data removed]",
      "text/plain": [
       "<Figure size 640x480 with 1 Axes>"
      ]
     },
     "metadata": {
      "image/png": {
       "height": 484,
       "width": 562
      }
     },
     "output_type": "display_data"
    }
   ],
   "source": [
    "plt.title(f'Quantidade de cada tipo de acorde na base')\n",
    "plt.bar(range(len(counter)), counter.values())\n",
    "plt.xticks(range(len(counter)), counter.keys(), rotation=45)\n",
    "\n",
    "plt.xlabel('Acorde')\n",
    "plt.ylabel('Quantidade (%)')\n",
    "plt.show()"
   ]
  },
  {
   "cell_type": "markdown",
   "id": "9d286344",
   "metadata": {},
   "source": [
    "Para isso, iremos padronizar um acorde para conter as seguintes informações:\n",
    "1. `key`: indicando a tonalidade da música naquele momento (trabalharemos com escalas maiores e menores apenas);\n",
    "2. `tonicization`: indicando o grau secundário do acorde, ou seja, uma mudança temporária no tom da música (também representando em algarismo romano);\n",
    "3. `degree`: indicando o grau primário do acorde (algarismo romano representando a posição do acorde na escala);\n",
    "4. `quality`: indicando a qualidade do acorde (maior, menor, dominante, etc);\n",
    "5. `inversion`: indicando a inversão do acorde (1ª, 2ª, 3ª ou nenhuma);\n",
    "6. `root`: indicando a fundamental do acorde, representada pela posição da nota na escala cromática.\n",
    "\n",
    "<br>\n",
    "\n",
    "> **Importante:** a componente `root` é redudante com as demais, uma vez que dado `key`, `tonicization` e `degree`, nós conseguimos estimar `root` de forma garantida. Porém, isso trará mais consistência durante a predição de algumas redes no futuro.\n",
    "\n",
    "Antes de construírmos os acordes propriamente ditos, vamos criar uma função para pegar o tom local da música quando aquele acorde é tocado."
   ]
  },
  {
   "cell_type": "code",
   "execution_count": 25,
   "id": "c6617e60",
   "metadata": {},
   "outputs": [
    {
     "data": {
      "text/plain": [
       "[{'onset': 0,\n",
       "  'offset': 16,\n",
       "  'mode': 'major',\n",
       "  'tonic': 'C',\n",
       "  'tonic_pitch_class': 0}]"
      ]
     },
     "execution_count": 25,
     "metadata": {},
     "output_type": "execute_result"
    }
   ],
   "source": [
    "processed[song_id]['annotations']['keys']"
   ]
  },
  {
   "cell_type": "code",
   "execution_count": 26,
   "id": "db9eb19b",
   "metadata": {},
   "outputs": [],
   "source": [
    "def get_chord_local_key(processed_chord, processed_keys):\n",
    "    onset = processed_chord['onset']\n",
    "    offset = processed_chord['offset']\n",
    "\n",
    "    for key in processed_keys:\n",
    "        if onset >= key['onset'] and offset <= key['offset']:\n",
    "            return {k: key[k] for k in ['mode', 'tonic', 'tonic_pitch_class']}\n",
    "        \n",
    "    raise ValueError('Unable to find key for chord')"
   ]
  },
  {
   "cell_type": "code",
   "execution_count": 27,
   "id": "8ef542ca",
   "metadata": {},
   "outputs": [
    {
     "name": "stdout",
     "output_type": "stream",
     "text": [
      " Chord 0: {'mode': 'major', 'tonic': 'A', 'tonic_pitch_class': 9}\n",
      " Chord 1: {'mode': 'major', 'tonic': 'C', 'tonic_pitch_class': 0}\n",
      " Chord 2: {'mode': 'major', 'tonic': 'C', 'tonic_pitch_class': 0}\n",
      " Chord 3: {'mode': 'major', 'tonic': 'C', 'tonic_pitch_class': 0}\n",
      " Chord 4: {'mode': 'major', 'tonic': 'C', 'tonic_pitch_class': 0}\n",
      " Chord 5: {'mode': 'major', 'tonic': 'C', 'tonic_pitch_class': 0}\n",
      " Chord 6: {'mode': 'major', 'tonic': 'C', 'tonic_pitch_class': 0}\n",
      " Chord 7: {'mode': 'major', 'tonic': 'C', 'tonic_pitch_class': 0}\n",
      " Chord 8: {'mode': 'major', 'tonic': 'C', 'tonic_pitch_class': 0}\n",
      " Chord 9: {'mode': 'major', 'tonic': 'C', 'tonic_pitch_class': 0}\n",
      " Chord 10: {'mode': 'major', 'tonic': 'C', 'tonic_pitch_class': 0}\n"
     ]
    }
   ],
   "source": [
    "song_id = 'Rzoj_DaMmDe'  # apenas um song_id de exemplo para vermos a operação da função\n",
    "\n",
    "for idx, chord in enumerate(processed[song_id]['annotations']['harmony']):\n",
    "    key = get_chord_local_key(chord, processed[song_id]['annotations']['keys'])\n",
    "    print(f' Chord {idx}: {key}')"
   ]
  },
  {
   "cell_type": "code",
   "execution_count": 28,
   "id": "6fc15769-4fa6-4c1e-b239-c9ac464cbe8c",
   "metadata": {},
   "outputs": [],
   "source": [
    "def build_chord(raw_chord, processed_chord, processed_keys, simplify_quality):\n",
    "    root = raw_chord['root']\n",
    "    key = get_chord_local_key(processed_chord, processed_keys)\n",
    "    \n",
    "    # Getting degree accident based on borrowed\n",
    "    accidental = ''\n",
    "    if raw_chord['borrowed']:\n",
    "        accidental = borrowed_accidentals[key['mode']][raw_chord['borrowed']][root-1]\n",
    "\n",
    "    return {\n",
    "        'onset': processed_chord['onset'],\n",
    "        'offset': processed_chord['offset'],\n",
    "        'key': key,\n",
    "        'tonicization': raw_chord['applied'],\n",
    "        'degree': accidental + str(root),\n",
    "        'quality': get_chord_quality(processed_chord, simplify_quality),\n",
    "        'inversion': int(processed_chord['inversion']),\n",
    "        'root_pitch_class': int(processed_chord['root_pitch_class'])\n",
    "    }"
   ]
  },
  {
   "cell_type": "code",
   "execution_count": 29,
   "id": "e100f799",
   "metadata": {},
   "outputs": [
    {
     "name": "stdout",
     "output_type": "stream",
     "text": [
      "Acordes da música (cru):\n",
      " - {'root': 4, 'beat': 1, 'duration': 2, 'type': 5, 'inversion': 0, 'applied': 0, 'adds': [], 'omits': [], 'alterations': [], 'suspensions': [], 'pedal': None, 'alternate': '', 'borrowed': '', 'isRest': False, 'recordingEndBeat': None}\n",
      " - {'root': 3, 'beat': 3, 'duration': 1, 'type': 5, 'inversion': 0, 'applied': 0, 'adds': [], 'omits': [], 'alterations': [], 'suspensions': [], 'pedal': None, 'alternate': '', 'borrowed': '', 'isRest': False, 'recordingEndBeat': None}\n",
      " - {'root': 2, 'beat': 4, 'duration': 1, 'type': 5, 'inversion': 0, 'applied': 0, 'adds': [], 'omits': [], 'alterations': [], 'suspensions': [], 'pedal': None, 'alternate': '', 'borrowed': '', 'isRest': False, 'recordingEndBeat': None}\n",
      " - {'root': 1, 'beat': 5, 'duration': 2, 'type': 5, 'inversion': 0, 'applied': 0, 'adds': [], 'omits': [], 'alterations': [], 'suspensions': [], 'pedal': None, 'alternate': '', 'borrowed': '', 'isRest': False, 'recordingEndBeat': None}\n",
      " - {'root': 7, 'beat': 7, 'duration': 1, 'type': 5, 'inversion': 0, 'applied': 0, 'adds': [], 'omits': [], 'alterations': [], 'suspensions': [], 'pedal': None, 'alternate': '', 'borrowed': 'minor', 'isRest': False, 'recordingEndBeat': None}\n",
      " - {'root': 6, 'beat': 8, 'duration': 1, 'type': 5, 'inversion': 0, 'applied': 0, 'adds': [], 'omits': [], 'alterations': [], 'suspensions': [], 'pedal': None, 'alternate': '', 'borrowed': '', 'isRest': False, 'recordingEndBeat': None}\n",
      " - {'root': 5, 'beat': 9, 'duration': 2, 'type': 5, 'inversion': 0, 'applied': 0, 'adds': [], 'omits': [], 'alterations': [], 'suspensions': [], 'pedal': None, 'alternate': '', 'borrowed': '', 'isRest': False, 'recordingEndBeat': None}\n",
      " - {'root': 4, 'beat': 11, 'duration': 2, 'type': 5, 'inversion': 0, 'applied': 0, 'adds': [], 'omits': [], 'alterations': [], 'suspensions': [], 'pedal': None, 'alternate': '', 'borrowed': '', 'isRest': False, 'recordingEndBeat': None}\n",
      " - {'root': 1, 'beat': 13, 'duration': 4, 'type': 5, 'inversion': 0, 'applied': 0, 'adds': [], 'omits': [], 'alterations': [], 'suspensions': [], 'pedal': None, 'alternate': '', 'borrowed': '', 'isRest': False, 'recordingEndBeat': None}\n",
      "\n",
      "Acordes da música (processados):\n",
      " - {'onset': 0, 'offset': 2, 'root_pitch_class': 5, 'root_position_intervals': [4, 3], 'inversion': 0}\n",
      " - {'onset': 2, 'offset': 3, 'root_pitch_class': 4, 'root_position_intervals': [3, 4], 'inversion': 0}\n",
      " - {'onset': 3, 'offset': 4, 'root_pitch_class': 2, 'root_position_intervals': [3, 4], 'inversion': 0}\n",
      " - {'onset': 4, 'offset': 6, 'root_pitch_class': 0, 'root_position_intervals': [4, 3], 'inversion': 0}\n",
      " - {'onset': 6, 'offset': 7, 'root_pitch_class': 10, 'root_position_intervals': [4, 3], 'inversion': 0}\n",
      " - {'onset': 7, 'offset': 8, 'root_pitch_class': 9, 'root_position_intervals': [3, 4], 'inversion': 0}\n",
      " - {'onset': 8, 'offset': 10, 'root_pitch_class': 7, 'root_position_intervals': [4, 3], 'inversion': 0}\n",
      " - {'onset': 10, 'offset': 12, 'root_pitch_class': 5, 'root_position_intervals': [4, 3], 'inversion': 0}\n",
      " - {'onset': 12, 'offset': 16, 'root_pitch_class': 0, 'root_position_intervals': [4, 3], 'inversion': 0}\n"
     ]
    }
   ],
   "source": [
    "song_id = 'JkmZYerZoqn'  # apenas um song_id de exemplo para vermos a construção das tonalidades\n",
    "\n",
    "print('Acordes da música (cru):')\n",
    "for chord in raw[song_id]['json']['chords']:\n",
    "    print(f' - {chord}')\n",
    "\n",
    "print('\\nAcordes da música (processados):')\n",
    "for chord in processed[song_id]['annotations']['harmony']:\n",
    "    print(f' - {chord}')"
   ]
  },
  {
   "cell_type": "code",
   "execution_count": 30,
   "id": "df331de3",
   "metadata": {},
   "outputs": [],
   "source": [
    "for song_id in processed.keys():\n",
    "    new_chords = []\n",
    "    raw_chords = raw[song_id]['json']['chords']\n",
    "    processed_chords = processed[song_id]['annotations']['harmony']\n",
    "    processed_keys = processed[song_id]['annotations']['keys']\n",
    "    \n",
    "    raw_idx = 0\n",
    "    for processed_chord in processed_chords:\n",
    "        while raw_chords[raw_idx]['isRest']:\n",
    "            raw_idx += 1\n",
    "        \n",
    "        new_chords.append(build_chord(raw_chords[raw_idx], processed_chord, processed_keys, simplify_quality))\n",
    "        raw_idx += 1\n",
    "\n",
    "    processed[song_id]['annotations']['harmony'] = new_chords"
   ]
  },
  {
   "cell_type": "code",
   "execution_count": 31,
   "id": "bd0a1466",
   "metadata": {},
   "outputs": [
    {
     "name": "stdout",
     "output_type": "stream",
     "text": [
      "Acordes da música (processados):\n",
      " - {'onset': 0, 'offset': 2, 'key': {'mode': 'major', 'tonic': 'C', 'tonic_pitch_class': 0}, 'tonicization': 0, 'degree': '4', 'quality': 'maj', 'inversion': 0, 'root_pitch_class': 5}\n",
      " - {'onset': 2, 'offset': 3, 'key': {'mode': 'major', 'tonic': 'C', 'tonic_pitch_class': 0}, 'tonicization': 0, 'degree': '3', 'quality': 'm', 'inversion': 0, 'root_pitch_class': 4}\n",
      " - {'onset': 3, 'offset': 4, 'key': {'mode': 'major', 'tonic': 'C', 'tonic_pitch_class': 0}, 'tonicization': 0, 'degree': '2', 'quality': 'm', 'inversion': 0, 'root_pitch_class': 2}\n",
      " - {'onset': 4, 'offset': 6, 'key': {'mode': 'major', 'tonic': 'C', 'tonic_pitch_class': 0}, 'tonicization': 0, 'degree': '1', 'quality': 'maj', 'inversion': 0, 'root_pitch_class': 0}\n",
      " - {'onset': 6, 'offset': 7, 'key': {'mode': 'major', 'tonic': 'C', 'tonic_pitch_class': 0}, 'tonicization': 0, 'degree': 'b7', 'quality': 'maj', 'inversion': 0, 'root_pitch_class': 10}\n",
      " - {'onset': 7, 'offset': 8, 'key': {'mode': 'major', 'tonic': 'C', 'tonic_pitch_class': 0}, 'tonicization': 0, 'degree': '6', 'quality': 'm', 'inversion': 0, 'root_pitch_class': 9}\n",
      " - {'onset': 8, 'offset': 10, 'key': {'mode': 'major', 'tonic': 'C', 'tonic_pitch_class': 0}, 'tonicization': 0, 'degree': '5', 'quality': 'maj', 'inversion': 0, 'root_pitch_class': 7}\n",
      " - {'onset': 10, 'offset': 12, 'key': {'mode': 'major', 'tonic': 'C', 'tonic_pitch_class': 0}, 'tonicization': 0, 'degree': '4', 'quality': 'maj', 'inversion': 0, 'root_pitch_class': 5}\n",
      " - {'onset': 12, 'offset': 16, 'key': {'mode': 'major', 'tonic': 'C', 'tonic_pitch_class': 0}, 'tonicization': 0, 'degree': '1', 'quality': 'maj', 'inversion': 0, 'root_pitch_class': 0}\n"
     ]
    }
   ],
   "source": [
    "song_id = 'JkmZYerZoqn'  # apenas um song_id de exemplo para vermos a construção dos acordes\n",
    "\n",
    "print('Acordes da música (processados):')\n",
    "for chord in processed[song_id]['annotations']['harmony']:\n",
    "    print(f' - {chord}')"
   ]
  },
  {
   "cell_type": "markdown",
   "id": "7e1fcad7",
   "metadata": {},
   "source": [
    "## Construção de um json mais limpo"
   ]
  },
  {
   "cell_type": "code",
   "execution_count": 32,
   "id": "78318528",
   "metadata": {},
   "outputs": [],
   "source": [
    "beatles = {}\n",
    "\n",
    "for song_id in processed.keys():\n",
    "    raw_song = raw[song_id]\n",
    "    processed_song = processed[song_id]\n",
    "\n",
    "    # Definindo dados relacionados com YouTube\n",
    "    start, end = get_song_alignment_times(processed_song)\n",
    "    youtube_json = {\n",
    "        'url': processed_song['youtube']['url'],\n",
    "        'start': start,\n",
    "        'end': end\n",
    "    }\n",
    "    \n",
    "    # Definido metadados\n",
    "    metadata_json = {\n",
    "        'song': processed_song['hooktheory']['song'],\n",
    "        'artist': processed_song['hooktheory']['artist'],\n",
    "        'num_beats': processed_song['annotations']['num_beats'],\n",
    "        'bpm': raw_song['json']['tempos'][0]['bpm'],  # teremos sempre 1 BPM para a música toda, já que não temos TEMPO_CHANGES\n",
    "        'simplify_quality': simplify_quality\n",
    "    }\n",
    "\n",
    "    beatles[song_id] = {\n",
    "        'metadata': metadata_json,\n",
    "        'youtube': youtube_json,\n",
    "        'harmony': processed_song['annotations']['harmony']\n",
    "    }"
   ]
  },
  {
   "cell_type": "code",
   "execution_count": 33,
   "id": "23ef298d",
   "metadata": {},
   "outputs": [
    {
     "data": {
      "text/plain": [
       "{'metadata': {'song': 'let-it-be',\n",
       "  'artist': 'the-beatles',\n",
       "  'num_beats': 16,\n",
       "  'bpm': 138,\n",
       "  'simplify_quality': True},\n",
       " 'youtube': {'url': 'https://www.youtube.com/watch?v=QDYfEBY9NM4',\n",
       "  'start': 105.2555833196328,\n",
       "  'end': 112.25558331963279},\n",
       " 'harmony': [{'onset': 0,\n",
       "   'offset': 2,\n",
       "   'key': {'mode': 'major', 'tonic': 'C', 'tonic_pitch_class': 0},\n",
       "   'tonicization': 0,\n",
       "   'degree': '4',\n",
       "   'quality': 'maj',\n",
       "   'inversion': 0,\n",
       "   'root_pitch_class': 5},\n",
       "  {'onset': 2,\n",
       "   'offset': 3,\n",
       "   'key': {'mode': 'major', 'tonic': 'C', 'tonic_pitch_class': 0},\n",
       "   'tonicization': 0,\n",
       "   'degree': '3',\n",
       "   'quality': 'm',\n",
       "   'inversion': 0,\n",
       "   'root_pitch_class': 4},\n",
       "  {'onset': 3,\n",
       "   'offset': 4,\n",
       "   'key': {'mode': 'major', 'tonic': 'C', 'tonic_pitch_class': 0},\n",
       "   'tonicization': 0,\n",
       "   'degree': '2',\n",
       "   'quality': 'm',\n",
       "   'inversion': 0,\n",
       "   'root_pitch_class': 2},\n",
       "  {'onset': 4,\n",
       "   'offset': 6,\n",
       "   'key': {'mode': 'major', 'tonic': 'C', 'tonic_pitch_class': 0},\n",
       "   'tonicization': 0,\n",
       "   'degree': '1',\n",
       "   'quality': 'maj',\n",
       "   'inversion': 0,\n",
       "   'root_pitch_class': 0},\n",
       "  {'onset': 6,\n",
       "   'offset': 7,\n",
       "   'key': {'mode': 'major', 'tonic': 'C', 'tonic_pitch_class': 0},\n",
       "   'tonicization': 0,\n",
       "   'degree': 'b7',\n",
       "   'quality': 'maj',\n",
       "   'inversion': 0,\n",
       "   'root_pitch_class': 10},\n",
       "  {'onset': 7,\n",
       "   'offset': 8,\n",
       "   'key': {'mode': 'major', 'tonic': 'C', 'tonic_pitch_class': 0},\n",
       "   'tonicization': 0,\n",
       "   'degree': '6',\n",
       "   'quality': 'm',\n",
       "   'inversion': 0,\n",
       "   'root_pitch_class': 9},\n",
       "  {'onset': 8,\n",
       "   'offset': 10,\n",
       "   'key': {'mode': 'major', 'tonic': 'C', 'tonic_pitch_class': 0},\n",
       "   'tonicization': 0,\n",
       "   'degree': '5',\n",
       "   'quality': 'maj',\n",
       "   'inversion': 0,\n",
       "   'root_pitch_class': 7},\n",
       "  {'onset': 10,\n",
       "   'offset': 12,\n",
       "   'key': {'mode': 'major', 'tonic': 'C', 'tonic_pitch_class': 0},\n",
       "   'tonicization': 0,\n",
       "   'degree': '4',\n",
       "   'quality': 'maj',\n",
       "   'inversion': 0,\n",
       "   'root_pitch_class': 5},\n",
       "  {'onset': 12,\n",
       "   'offset': 16,\n",
       "   'key': {'mode': 'major', 'tonic': 'C', 'tonic_pitch_class': 0},\n",
       "   'tonicization': 0,\n",
       "   'degree': '1',\n",
       "   'quality': 'maj',\n",
       "   'inversion': 0,\n",
       "   'root_pitch_class': 0}]}"
      ]
     },
     "execution_count": 33,
     "metadata": {},
     "output_type": "execute_result"
    }
   ],
   "source": [
    "song_id = 'JkmZYerZoqn'  # apenas um song_id de exemplo para vermos a construção do json limpo\n",
    "beatles[song_id]"
   ]
  },
  {
   "cell_type": "markdown",
   "id": "b7d0566f",
   "metadata": {},
   "source": [
    "## Escrita da anotação para uma subdivisão rítmica\n",
    "\n",
    "> **Importante:** Como uma batida da nossa música **sempre será** da duração de uma semínima ($1$), teremos que as resoluções de $0.5$ e $0.25$ corresponderão à colcheias e semicolcheias."
   ]
  },
  {
   "cell_type": "code",
   "execution_count": 34,
   "id": "b999050f",
   "metadata": {},
   "outputs": [
    {
     "name": "stdout",
     "output_type": "stream",
     "text": [
      "Original number of beats: 16\n",
      "Number of beats: 32\n"
     ]
    }
   ],
   "source": [
    "def resample_harmony(harmony, num_beats, res):\n",
    "    assert res in [0.25, 0.5, 1], 'Resolution parameter must be either: 0.25 (sixteenth note resolution), ' \\\n",
    "                                  '0.5 (eighth note resolution) or 1 (quarter note resolution)'\n",
    "\n",
    "    def get_subdict_as_string(d, keys):\n",
    "        return json.dumps({k: d[k] for k in keys})\n",
    "\n",
    "    start = 0\n",
    "    resampled = []\n",
    "    wanted_keys = ['key', 'tonicization', 'degree', 'quality', 'inversion', 'root_pitch_class']\n",
    "\n",
    "    for chord in harmony:\n",
    "        while start + res <= chord['offset']:\n",
    "            if start < chord['onset']:  # estamos em uma pausa!\n",
    "                resampled.append('<rest>')\n",
    "            else:\n",
    "                resampled.append(get_subdict_as_string(chord, wanted_keys))\n",
    "\n",
    "            start += res\n",
    "\n",
    "    # Filling the remaining beats with rests if needed]\n",
    "    remaning_beats = int(num_beats * (1 / res)) - len(resampled)\n",
    "    resampled += remaning_beats * ['<rest>']\n",
    "    \n",
    "    return resampled\n",
    "\n",
    "song_id = 'jDgXpWK_gKl'\n",
    "resampled_harmony = resample_harmony(beatles[song_id]['harmony'],\n",
    "                                     beatles[song_id]['metadata']['num_beats'],\n",
    "                                     res=0.5)\n",
    "\n",
    "print('Original number of beats:', beatles[song_id]['metadata']['num_beats'])\n",
    "print('Number of beats:', len(resampled_harmony))"
   ]
  },
  {
   "cell_type": "markdown",
   "id": "bb798601",
   "metadata": {},
   "source": [
    "Verificando o método para a música `zngRBjEBgJj` ([Octopus' Garden](https://hookpad.hooktheory.com/?idOfSong=zngRBjEBgJj)), que possui várias pausas nos acordes."
   ]
  },
  {
   "cell_type": "code",
   "execution_count": 35,
   "id": "36c45b97",
   "metadata": {},
   "outputs": [
    {
     "name": "stdout",
     "output_type": "stream",
     "text": [
      "Original number of beats: 64\n",
      "Number of beats: 128\n"
     ]
    }
   ],
   "source": [
    "song_id = 'zngRBjEBgJj'\n",
    "resampled_harmony = resample_harmony(beatles[song_id]['harmony'],\n",
    "                                     beatles[song_id]['metadata']['num_beats'],\n",
    "                                     res=0.5)\n",
    "\n",
    "print('Original number of beats:', beatles[song_id]['metadata']['num_beats'])\n",
    "print('Number of beats:', len(resampled_harmony))"
   ]
  },
  {
   "cell_type": "code",
   "execution_count": 36,
   "id": "41ac4121",
   "metadata": {},
   "outputs": [
    {
     "data": {
      "text/plain": [
       "['<rest>',\n",
       " '<rest>',\n",
       " '<rest>',\n",
       " '<rest>',\n",
       " '<rest>',\n",
       " '<rest>',\n",
       " '<rest>',\n",
       " '<rest>',\n",
       " '<rest>',\n",
       " '<rest>',\n",
       " '{\"key\": {\"mode\": \"major\", \"tonic\": \"E\", \"tonic_pitch_class\": 4}, \"tonicization\": 0, \"degree\": \"5\", \"quality\": \"maj\", \"inversion\": 0, \"root_pitch_class\": 11}',\n",
       " '<rest>',\n",
       " '{\"key\": {\"mode\": \"major\", \"tonic\": \"E\", \"tonic_pitch_class\": 4}, \"tonicization\": 0, \"degree\": \"1\", \"quality\": \"maj\", \"inversion\": 0, \"root_pitch_class\": 4}',\n",
       " '{\"key\": {\"mode\": \"major\", \"tonic\": \"E\", \"tonic_pitch_class\": 4}, \"tonicization\": 0, \"degree\": \"1\", \"quality\": \"maj\", \"inversion\": 0, \"root_pitch_class\": 4}',\n",
       " '<rest>',\n",
       " '<rest>',\n",
       " '<rest>',\n",
       " '<rest>',\n",
       " '<rest>',\n",
       " '<rest>',\n",
       " '<rest>',\n",
       " '<rest>',\n",
       " '<rest>',\n",
       " '<rest>',\n",
       " '<rest>',\n",
       " '{\"key\": {\"mode\": \"major\", \"tonic\": \"E\", \"tonic_pitch_class\": 4}, \"tonicization\": 0, \"degree\": \"1\", \"quality\": \"maj\", \"inversion\": 0, \"root_pitch_class\": 4}',\n",
       " '{\"key\": {\"mode\": \"major\", \"tonic\": \"E\", \"tonic_pitch_class\": 4}, \"tonicization\": 0, \"degree\": \"5\", \"quality\": \"maj\", \"inversion\": 0, \"root_pitch_class\": 11}',\n",
       " '{\"key\": {\"mode\": \"major\", \"tonic\": \"E\", \"tonic_pitch_class\": 4}, \"tonicization\": 0, \"degree\": \"5\", \"quality\": \"maj\", \"inversion\": 0, \"root_pitch_class\": 11}',\n",
       " '{\"key\": {\"mode\": \"major\", \"tonic\": \"E\", \"tonic_pitch_class\": 4}, \"tonicization\": 0, \"degree\": \"7\", \"quality\": \"<unk>\", \"inversion\": 3, \"root_pitch_class\": 3}',\n",
       " '{\"key\": {\"mode\": \"major\", \"tonic\": \"E\", \"tonic_pitch_class\": 4}, \"tonicization\": 0, \"degree\": \"7\", \"quality\": \"<unk>\", \"inversion\": 3, \"root_pitch_class\": 3}',\n",
       " '{\"key\": {\"mode\": \"major\", \"tonic\": \"E\", \"tonic_pitch_class\": 4}, \"tonicization\": 0, \"degree\": \"5\", \"quality\": \"maj\", \"inversion\": 1, \"root_pitch_class\": 11}',\n",
       " '{\"key\": {\"mode\": \"major\", \"tonic\": \"E\", \"tonic_pitch_class\": 4}, \"tonicization\": 0, \"degree\": \"5\", \"quality\": \"maj\", \"inversion\": 1, \"root_pitch_class\": 11}',\n",
       " '{\"key\": {\"mode\": \"major\", \"tonic\": \"E\", \"tonic_pitch_class\": 4}, \"tonicization\": 0, \"degree\": \"1\", \"quality\": \"maj\", \"inversion\": 0, \"root_pitch_class\": 4}',\n",
       " '{\"key\": {\"mode\": \"major\", \"tonic\": \"E\", \"tonic_pitch_class\": 4}, \"tonicization\": 0, \"degree\": \"1\", \"quality\": \"maj\", \"inversion\": 0, \"root_pitch_class\": 4}',\n",
       " '{\"key\": {\"mode\": \"major\", \"tonic\": \"E\", \"tonic_pitch_class\": 4}, \"tonicization\": 0, \"degree\": \"1\", \"quality\": \"maj\", \"inversion\": 0, \"root_pitch_class\": 4}',\n",
       " '{\"key\": {\"mode\": \"major\", \"tonic\": \"E\", \"tonic_pitch_class\": 4}, \"tonicization\": 0, \"degree\": \"1\", \"quality\": \"maj\", \"inversion\": 0, \"root_pitch_class\": 4}',\n",
       " '{\"key\": {\"mode\": \"major\", \"tonic\": \"E\", \"tonic_pitch_class\": 4}, \"tonicization\": 0, \"degree\": \"1\", \"quality\": \"maj\", \"inversion\": 2, \"root_pitch_class\": 4}',\n",
       " '{\"key\": {\"mode\": \"major\", \"tonic\": \"E\", \"tonic_pitch_class\": 4}, \"tonicization\": 0, \"degree\": \"1\", \"quality\": \"maj\", \"inversion\": 2, \"root_pitch_class\": 4}',\n",
       " '{\"key\": {\"mode\": \"major\", \"tonic\": \"E\", \"tonic_pitch_class\": 4}, \"tonicization\": 0, \"degree\": \"1\", \"quality\": \"maj\", \"inversion\": 2, \"root_pitch_class\": 4}',\n",
       " '{\"key\": {\"mode\": \"major\", \"tonic\": \"E\", \"tonic_pitch_class\": 4}, \"tonicization\": 0, \"degree\": \"1\", \"quality\": \"maj\", \"inversion\": 2, \"root_pitch_class\": 4}',\n",
       " '{\"key\": {\"mode\": \"major\", \"tonic\": \"E\", \"tonic_pitch_class\": 4}, \"tonicization\": 0, \"degree\": \"6\", \"quality\": \"m\", \"inversion\": 0, \"root_pitch_class\": 1}',\n",
       " '{\"key\": {\"mode\": \"major\", \"tonic\": \"E\", \"tonic_pitch_class\": 4}, \"tonicization\": 0, \"degree\": \"6\", \"quality\": \"m\", \"inversion\": 0, \"root_pitch_class\": 1}',\n",
       " '{\"key\": {\"mode\": \"major\", \"tonic\": \"E\", \"tonic_pitch_class\": 4}, \"tonicization\": 0, \"degree\": \"6\", \"quality\": \"m\", \"inversion\": 0, \"root_pitch_class\": 1}',\n",
       " '{\"key\": {\"mode\": \"major\", \"tonic\": \"E\", \"tonic_pitch_class\": 4}, \"tonicization\": 0, \"degree\": \"6\", \"quality\": \"m\", \"inversion\": 0, \"root_pitch_class\": 1}',\n",
       " '{\"key\": {\"mode\": \"major\", \"tonic\": \"E\", \"tonic_pitch_class\": 4}, \"tonicization\": 0, \"degree\": \"6\", \"quality\": \"m\", \"inversion\": 2, \"root_pitch_class\": 1}',\n",
       " '{\"key\": {\"mode\": \"major\", \"tonic\": \"E\", \"tonic_pitch_class\": 4}, \"tonicization\": 0, \"degree\": \"6\", \"quality\": \"m\", \"inversion\": 2, \"root_pitch_class\": 1}',\n",
       " '{\"key\": {\"mode\": \"major\", \"tonic\": \"E\", \"tonic_pitch_class\": 4}, \"tonicization\": 0, \"degree\": \"6\", \"quality\": \"m\", \"inversion\": 2, \"root_pitch_class\": 1}',\n",
       " '{\"key\": {\"mode\": \"major\", \"tonic\": \"E\", \"tonic_pitch_class\": 4}, \"tonicization\": 0, \"degree\": \"6\", \"quality\": \"m\", \"inversion\": 2, \"root_pitch_class\": 1}',\n",
       " '{\"key\": {\"mode\": \"major\", \"tonic\": \"E\", \"tonic_pitch_class\": 4}, \"tonicization\": 0, \"degree\": \"4\", \"quality\": \"maj\", \"inversion\": 0, \"root_pitch_class\": 9}',\n",
       " '{\"key\": {\"mode\": \"major\", \"tonic\": \"E\", \"tonic_pitch_class\": 4}, \"tonicization\": 0, \"degree\": \"4\", \"quality\": \"maj\", \"inversion\": 0, \"root_pitch_class\": 9}',\n",
       " '{\"key\": {\"mode\": \"major\", \"tonic\": \"E\", \"tonic_pitch_class\": 4}, \"tonicization\": 0, \"degree\": \"4\", \"quality\": \"maj\", \"inversion\": 0, \"root_pitch_class\": 9}',\n",
       " '{\"key\": {\"mode\": \"major\", \"tonic\": \"E\", \"tonic_pitch_class\": 4}, \"tonicization\": 0, \"degree\": \"4\", \"quality\": \"maj\", \"inversion\": 0, \"root_pitch_class\": 9}',\n",
       " '{\"key\": {\"mode\": \"major\", \"tonic\": \"E\", \"tonic_pitch_class\": 4}, \"tonicization\": 0, \"degree\": \"4\", \"quality\": \"maj\", \"inversion\": 2, \"root_pitch_class\": 9}',\n",
       " '{\"key\": {\"mode\": \"major\", \"tonic\": \"E\", \"tonic_pitch_class\": 4}, \"tonicization\": 0, \"degree\": \"4\", \"quality\": \"maj\", \"inversion\": 2, \"root_pitch_class\": 9}',\n",
       " '{\"key\": {\"mode\": \"major\", \"tonic\": \"E\", \"tonic_pitch_class\": 4}, \"tonicization\": 0, \"degree\": \"4\", \"quality\": \"maj\", \"inversion\": 2, \"root_pitch_class\": 9}',\n",
       " '{\"key\": {\"mode\": \"major\", \"tonic\": \"E\", \"tonic_pitch_class\": 4}, \"tonicization\": 0, \"degree\": \"4\", \"quality\": \"maj\", \"inversion\": 2, \"root_pitch_class\": 9}',\n",
       " '{\"key\": {\"mode\": \"major\", \"tonic\": \"E\", \"tonic_pitch_class\": 4}, \"tonicization\": 0, \"degree\": \"5\", \"quality\": \"maj\", \"inversion\": 0, \"root_pitch_class\": 11}',\n",
       " '{\"key\": {\"mode\": \"major\", \"tonic\": \"E\", \"tonic_pitch_class\": 4}, \"tonicization\": 0, \"degree\": \"5\", \"quality\": \"maj\", \"inversion\": 0, \"root_pitch_class\": 11}',\n",
       " '{\"key\": {\"mode\": \"major\", \"tonic\": \"E\", \"tonic_pitch_class\": 4}, \"tonicization\": 0, \"degree\": \"7\", \"quality\": \"<unk>\", \"inversion\": 3, \"root_pitch_class\": 3}',\n",
       " '{\"key\": {\"mode\": \"major\", \"tonic\": \"E\", \"tonic_pitch_class\": 4}, \"tonicization\": 0, \"degree\": \"7\", \"quality\": \"<unk>\", \"inversion\": 3, \"root_pitch_class\": 3}',\n",
       " '{\"key\": {\"mode\": \"major\", \"tonic\": \"E\", \"tonic_pitch_class\": 4}, \"tonicization\": 0, \"degree\": \"5\", \"quality\": \"maj\", \"inversion\": 1, \"root_pitch_class\": 11}',\n",
       " '{\"key\": {\"mode\": \"major\", \"tonic\": \"E\", \"tonic_pitch_class\": 4}, \"tonicization\": 0, \"degree\": \"5\", \"quality\": \"maj\", \"inversion\": 1, \"root_pitch_class\": 11}',\n",
       " '{\"key\": {\"mode\": \"major\", \"tonic\": \"E\", \"tonic_pitch_class\": 4}, \"tonicization\": 0, \"degree\": \"5\", \"quality\": \"maj\", \"inversion\": 0, \"root_pitch_class\": 11}',\n",
       " '{\"key\": {\"mode\": \"major\", \"tonic\": \"E\", \"tonic_pitch_class\": 4}, \"tonicization\": 0, \"degree\": \"5\", \"quality\": \"maj\", \"inversion\": 0, \"root_pitch_class\": 11}',\n",
       " '{\"key\": {\"mode\": \"major\", \"tonic\": \"E\", \"tonic_pitch_class\": 4}, \"tonicization\": 0, \"degree\": \"1\", \"quality\": \"maj\", \"inversion\": 0, \"root_pitch_class\": 4}',\n",
       " '{\"key\": {\"mode\": \"major\", \"tonic\": \"E\", \"tonic_pitch_class\": 4}, \"tonicization\": 0, \"degree\": \"1\", \"quality\": \"maj\", \"inversion\": 0, \"root_pitch_class\": 4}',\n",
       " '{\"key\": {\"mode\": \"major\", \"tonic\": \"E\", \"tonic_pitch_class\": 4}, \"tonicization\": 0, \"degree\": \"1\", \"quality\": \"maj\", \"inversion\": 0, \"root_pitch_class\": 4}',\n",
       " '{\"key\": {\"mode\": \"major\", \"tonic\": \"E\", \"tonic_pitch_class\": 4}, \"tonicization\": 0, \"degree\": \"1\", \"quality\": \"maj\", \"inversion\": 0, \"root_pitch_class\": 4}',\n",
       " '{\"key\": {\"mode\": \"major\", \"tonic\": \"E\", \"tonic_pitch_class\": 4}, \"tonicization\": 0, \"degree\": \"1\", \"quality\": \"maj\", \"inversion\": 2, \"root_pitch_class\": 4}',\n",
       " '{\"key\": {\"mode\": \"major\", \"tonic\": \"E\", \"tonic_pitch_class\": 4}, \"tonicization\": 0, \"degree\": \"1\", \"quality\": \"maj\", \"inversion\": 2, \"root_pitch_class\": 4}',\n",
       " '{\"key\": {\"mode\": \"major\", \"tonic\": \"E\", \"tonic_pitch_class\": 4}, \"tonicization\": 0, \"degree\": \"1\", \"quality\": \"maj\", \"inversion\": 2, \"root_pitch_class\": 4}',\n",
       " '{\"key\": {\"mode\": \"major\", \"tonic\": \"E\", \"tonic_pitch_class\": 4}, \"tonicization\": 0, \"degree\": \"1\", \"quality\": \"maj\", \"inversion\": 2, \"root_pitch_class\": 4}',\n",
       " '{\"key\": {\"mode\": \"major\", \"tonic\": \"E\", \"tonic_pitch_class\": 4}, \"tonicization\": 0, \"degree\": \"1\", \"quality\": \"maj\", \"inversion\": 0, \"root_pitch_class\": 4}',\n",
       " '{\"key\": {\"mode\": \"major\", \"tonic\": \"E\", \"tonic_pitch_class\": 4}, \"tonicization\": 0, \"degree\": \"1\", \"quality\": \"maj\", \"inversion\": 0, \"root_pitch_class\": 4}',\n",
       " '{\"key\": {\"mode\": \"major\", \"tonic\": \"E\", \"tonic_pitch_class\": 4}, \"tonicization\": 0, \"degree\": \"1\", \"quality\": \"maj\", \"inversion\": 0, \"root_pitch_class\": 4}',\n",
       " '{\"key\": {\"mode\": \"major\", \"tonic\": \"E\", \"tonic_pitch_class\": 4}, \"tonicization\": 0, \"degree\": \"1\", \"quality\": \"maj\", \"inversion\": 0, \"root_pitch_class\": 4}',\n",
       " '{\"key\": {\"mode\": \"major\", \"tonic\": \"E\", \"tonic_pitch_class\": 4}, \"tonicization\": 0, \"degree\": \"1\", \"quality\": \"maj7\", \"inversion\": 3, \"root_pitch_class\": 4}',\n",
       " '{\"key\": {\"mode\": \"major\", \"tonic\": \"E\", \"tonic_pitch_class\": 4}, \"tonicization\": 0, \"degree\": \"1\", \"quality\": \"maj7\", \"inversion\": 3, \"root_pitch_class\": 4}',\n",
       " '{\"key\": {\"mode\": \"major\", \"tonic\": \"E\", \"tonic_pitch_class\": 4}, \"tonicization\": 0, \"degree\": \"1\", \"quality\": \"maj7\", \"inversion\": 3, \"root_pitch_class\": 4}',\n",
       " '{\"key\": {\"mode\": \"major\", \"tonic\": \"E\", \"tonic_pitch_class\": 4}, \"tonicization\": 0, \"degree\": \"1\", \"quality\": \"maj7\", \"inversion\": 3, \"root_pitch_class\": 4}',\n",
       " '{\"key\": {\"mode\": \"major\", \"tonic\": \"E\", \"tonic_pitch_class\": 4}, \"tonicization\": 0, \"degree\": \"6\", \"quality\": \"m\", \"inversion\": 0, \"root_pitch_class\": 1}',\n",
       " '{\"key\": {\"mode\": \"major\", \"tonic\": \"E\", \"tonic_pitch_class\": 4}, \"tonicization\": 0, \"degree\": \"6\", \"quality\": \"m\", \"inversion\": 0, \"root_pitch_class\": 1}',\n",
       " '{\"key\": {\"mode\": \"major\", \"tonic\": \"E\", \"tonic_pitch_class\": 4}, \"tonicization\": 0, \"degree\": \"6\", \"quality\": \"m\", \"inversion\": 0, \"root_pitch_class\": 1}',\n",
       " '{\"key\": {\"mode\": \"major\", \"tonic\": \"E\", \"tonic_pitch_class\": 4}, \"tonicization\": 0, \"degree\": \"6\", \"quality\": \"m\", \"inversion\": 0, \"root_pitch_class\": 1}',\n",
       " '{\"key\": {\"mode\": \"major\", \"tonic\": \"E\", \"tonic_pitch_class\": 4}, \"tonicization\": 0, \"degree\": \"6\", \"quality\": \"m\", \"inversion\": 2, \"root_pitch_class\": 1}',\n",
       " '{\"key\": {\"mode\": \"major\", \"tonic\": \"E\", \"tonic_pitch_class\": 4}, \"tonicization\": 0, \"degree\": \"6\", \"quality\": \"m\", \"inversion\": 2, \"root_pitch_class\": 1}',\n",
       " '{\"key\": {\"mode\": \"major\", \"tonic\": \"E\", \"tonic_pitch_class\": 4}, \"tonicization\": 0, \"degree\": \"6\", \"quality\": \"m\", \"inversion\": 2, \"root_pitch_class\": 1}',\n",
       " '{\"key\": {\"mode\": \"major\", \"tonic\": \"E\", \"tonic_pitch_class\": 4}, \"tonicization\": 0, \"degree\": \"6\", \"quality\": \"m\", \"inversion\": 2, \"root_pitch_class\": 1}',\n",
       " '{\"key\": {\"mode\": \"major\", \"tonic\": \"E\", \"tonic_pitch_class\": 4}, \"tonicization\": 0, \"degree\": \"6\", \"quality\": \"m\", \"inversion\": 0, \"root_pitch_class\": 1}',\n",
       " '{\"key\": {\"mode\": \"major\", \"tonic\": \"E\", \"tonic_pitch_class\": 4}, \"tonicization\": 0, \"degree\": \"6\", \"quality\": \"m\", \"inversion\": 0, \"root_pitch_class\": 1}',\n",
       " '{\"key\": {\"mode\": \"major\", \"tonic\": \"E\", \"tonic_pitch_class\": 4}, \"tonicization\": 0, \"degree\": \"6\", \"quality\": \"m\", \"inversion\": 0, \"root_pitch_class\": 1}',\n",
       " '{\"key\": {\"mode\": \"major\", \"tonic\": \"E\", \"tonic_pitch_class\": 4}, \"tonicization\": 0, \"degree\": \"6\", \"quality\": \"m\", \"inversion\": 0, \"root_pitch_class\": 1}',\n",
       " '{\"key\": {\"mode\": \"major\", \"tonic\": \"E\", \"tonic_pitch_class\": 4}, \"tonicization\": 0, \"degree\": \"6\", \"quality\": \"m7\", \"inversion\": 3, \"root_pitch_class\": 1}',\n",
       " '{\"key\": {\"mode\": \"major\", \"tonic\": \"E\", \"tonic_pitch_class\": 4}, \"tonicization\": 0, \"degree\": \"6\", \"quality\": \"m7\", \"inversion\": 3, \"root_pitch_class\": 1}',\n",
       " '{\"key\": {\"mode\": \"major\", \"tonic\": \"E\", \"tonic_pitch_class\": 4}, \"tonicization\": 0, \"degree\": \"6\", \"quality\": \"m7\", \"inversion\": 3, \"root_pitch_class\": 1}',\n",
       " '{\"key\": {\"mode\": \"major\", \"tonic\": \"E\", \"tonic_pitch_class\": 4}, \"tonicization\": 0, \"degree\": \"6\", \"quality\": \"m7\", \"inversion\": 3, \"root_pitch_class\": 1}',\n",
       " '{\"key\": {\"mode\": \"major\", \"tonic\": \"E\", \"tonic_pitch_class\": 4}, \"tonicization\": 0, \"degree\": \"4\", \"quality\": \"maj\", \"inversion\": 0, \"root_pitch_class\": 9}',\n",
       " '{\"key\": {\"mode\": \"major\", \"tonic\": \"E\", \"tonic_pitch_class\": 4}, \"tonicization\": 0, \"degree\": \"4\", \"quality\": \"maj\", \"inversion\": 0, \"root_pitch_class\": 9}',\n",
       " '{\"key\": {\"mode\": \"major\", \"tonic\": \"E\", \"tonic_pitch_class\": 4}, \"tonicization\": 0, \"degree\": \"4\", \"quality\": \"maj\", \"inversion\": 0, \"root_pitch_class\": 9}',\n",
       " '{\"key\": {\"mode\": \"major\", \"tonic\": \"E\", \"tonic_pitch_class\": 4}, \"tonicization\": 0, \"degree\": \"4\", \"quality\": \"maj\", \"inversion\": 0, \"root_pitch_class\": 9}',\n",
       " '{\"key\": {\"mode\": \"major\", \"tonic\": \"E\", \"tonic_pitch_class\": 4}, \"tonicization\": 0, \"degree\": \"4\", \"quality\": \"maj\", \"inversion\": 2, \"root_pitch_class\": 9}',\n",
       " '{\"key\": {\"mode\": \"major\", \"tonic\": \"E\", \"tonic_pitch_class\": 4}, \"tonicization\": 0, \"degree\": \"4\", \"quality\": \"maj\", \"inversion\": 2, \"root_pitch_class\": 9}',\n",
       " '{\"key\": {\"mode\": \"major\", \"tonic\": \"E\", \"tonic_pitch_class\": 4}, \"tonicization\": 0, \"degree\": \"4\", \"quality\": \"maj\", \"inversion\": 2, \"root_pitch_class\": 9}',\n",
       " '{\"key\": {\"mode\": \"major\", \"tonic\": \"E\", \"tonic_pitch_class\": 4}, \"tonicization\": 0, \"degree\": \"4\", \"quality\": \"maj\", \"inversion\": 2, \"root_pitch_class\": 9}',\n",
       " '{\"key\": {\"mode\": \"major\", \"tonic\": \"E\", \"tonic_pitch_class\": 4}, \"tonicization\": 0, \"degree\": \"4\", \"quality\": \"maj\", \"inversion\": 0, \"root_pitch_class\": 9}',\n",
       " '{\"key\": {\"mode\": \"major\", \"tonic\": \"E\", \"tonic_pitch_class\": 4}, \"tonicization\": 0, \"degree\": \"4\", \"quality\": \"maj\", \"inversion\": 0, \"root_pitch_class\": 9}',\n",
       " '{\"key\": {\"mode\": \"major\", \"tonic\": \"E\", \"tonic_pitch_class\": 4}, \"tonicization\": 0, \"degree\": \"4\", \"quality\": \"maj\", \"inversion\": 0, \"root_pitch_class\": 9}',\n",
       " '{\"key\": {\"mode\": \"major\", \"tonic\": \"E\", \"tonic_pitch_class\": 4}, \"tonicization\": 0, \"degree\": \"4\", \"quality\": \"maj\", \"inversion\": 0, \"root_pitch_class\": 9}',\n",
       " '{\"key\": {\"mode\": \"major\", \"tonic\": \"E\", \"tonic_pitch_class\": 4}, \"tonicization\": 0, \"degree\": \"4\", \"quality\": \"maj\", \"inversion\": 2, \"root_pitch_class\": 9}',\n",
       " '{\"key\": {\"mode\": \"major\", \"tonic\": \"E\", \"tonic_pitch_class\": 4}, \"tonicization\": 0, \"degree\": \"4\", \"quality\": \"maj\", \"inversion\": 2, \"root_pitch_class\": 9}',\n",
       " '{\"key\": {\"mode\": \"major\", \"tonic\": \"E\", \"tonic_pitch_class\": 4}, \"tonicization\": 0, \"degree\": \"4\", \"quality\": \"maj\", \"inversion\": 2, \"root_pitch_class\": 9}',\n",
       " '{\"key\": {\"mode\": \"major\", \"tonic\": \"E\", \"tonic_pitch_class\": 4}, \"tonicization\": 0, \"degree\": \"4\", \"quality\": \"maj\", \"inversion\": 2, \"root_pitch_class\": 9}',\n",
       " '{\"key\": {\"mode\": \"major\", \"tonic\": \"E\", \"tonic_pitch_class\": 4}, \"tonicization\": 0, \"degree\": \"5\", \"quality\": \"maj\", \"inversion\": 0, \"root_pitch_class\": 11}',\n",
       " '{\"key\": {\"mode\": \"major\", \"tonic\": \"E\", \"tonic_pitch_class\": 4}, \"tonicization\": 0, \"degree\": \"5\", \"quality\": \"maj\", \"inversion\": 0, \"root_pitch_class\": 11}',\n",
       " '{\"key\": {\"mode\": \"major\", \"tonic\": \"E\", \"tonic_pitch_class\": 4}, \"tonicization\": 0, \"degree\": \"5\", \"quality\": \"maj\", \"inversion\": 0, \"root_pitch_class\": 11}',\n",
       " '{\"key\": {\"mode\": \"major\", \"tonic\": \"E\", \"tonic_pitch_class\": 4}, \"tonicization\": 0, \"degree\": \"5\", \"quality\": \"maj\", \"inversion\": 0, \"root_pitch_class\": 11}',\n",
       " '{\"key\": {\"mode\": \"major\", \"tonic\": \"E\", \"tonic_pitch_class\": 4}, \"tonicization\": 0, \"degree\": \"5\", \"quality\": \"maj\", \"inversion\": 0, \"root_pitch_class\": 11}',\n",
       " '{\"key\": {\"mode\": \"major\", \"tonic\": \"E\", \"tonic_pitch_class\": 4}, \"tonicization\": 0, \"degree\": \"5\", \"quality\": \"maj\", \"inversion\": 0, \"root_pitch_class\": 11}',\n",
       " '{\"key\": {\"mode\": \"major\", \"tonic\": \"E\", \"tonic_pitch_class\": 4}, \"tonicization\": 0, \"degree\": \"5\", \"quality\": \"maj\", \"inversion\": 0, \"root_pitch_class\": 11}',\n",
       " '{\"key\": {\"mode\": \"major\", \"tonic\": \"E\", \"tonic_pitch_class\": 4}, \"tonicization\": 0, \"degree\": \"5\", \"quality\": \"maj\", \"inversion\": 0, \"root_pitch_class\": 11}',\n",
       " '{\"key\": {\"mode\": \"major\", \"tonic\": \"E\", \"tonic_pitch_class\": 4}, \"tonicization\": 0, \"degree\": \"5\", \"quality\": \"maj\", \"inversion\": 0, \"root_pitch_class\": 11}',\n",
       " '{\"key\": {\"mode\": \"major\", \"tonic\": \"E\", \"tonic_pitch_class\": 4}, \"tonicization\": 0, \"degree\": \"5\", \"quality\": \"maj\", \"inversion\": 0, \"root_pitch_class\": 11}',\n",
       " '{\"key\": {\"mode\": \"major\", \"tonic\": \"E\", \"tonic_pitch_class\": 4}, \"tonicization\": 0, \"degree\": \"7\", \"quality\": \"<unk>\", \"inversion\": 3, \"root_pitch_class\": 3}',\n",
       " '{\"key\": {\"mode\": \"major\", \"tonic\": \"E\", \"tonic_pitch_class\": 4}, \"tonicization\": 0, \"degree\": \"7\", \"quality\": \"<unk>\", \"inversion\": 3, \"root_pitch_class\": 3}',\n",
       " '{\"key\": {\"mode\": \"major\", \"tonic\": \"E\", \"tonic_pitch_class\": 4}, \"tonicization\": 0, \"degree\": \"5\", \"quality\": \"maj\", \"inversion\": 1, \"root_pitch_class\": 11}',\n",
       " '{\"key\": {\"mode\": \"major\", \"tonic\": \"E\", \"tonic_pitch_class\": 4}, \"tonicization\": 0, \"degree\": \"5\", \"quality\": \"maj\", \"inversion\": 1, \"root_pitch_class\": 11}',\n",
       " '{\"key\": {\"mode\": \"major\", \"tonic\": \"E\", \"tonic_pitch_class\": 4}, \"tonicization\": 0, \"degree\": \"5\", \"quality\": \"maj\", \"inversion\": 0, \"root_pitch_class\": 11}',\n",
       " '{\"key\": {\"mode\": \"major\", \"tonic\": \"E\", \"tonic_pitch_class\": 4}, \"tonicization\": 0, \"degree\": \"5\", \"quality\": \"maj\", \"inversion\": 0, \"root_pitch_class\": 11}']"
      ]
     },
     "execution_count": 36,
     "metadata": {},
     "output_type": "execute_result"
    }
   ],
   "source": [
    "resampled_harmony"
   ]
  },
  {
   "cell_type": "markdown",
   "id": "99d822c0",
   "metadata": {},
   "source": [
    "Processando a harmonia de todas as músicas para a resolução $0.25$ (semicolcheia, ou *sixteenth note*)."
   ]
  },
  {
   "cell_type": "code",
   "execution_count": 37,
   "id": "8055f457",
   "metadata": {},
   "outputs": [],
   "source": [
    "res = 0.25\n",
    "\n",
    "for song_id in beatles.keys():\n",
    "    harmony = beatles[song_id].pop('harmony')\n",
    "    beatles[song_id]['metadata']['harmony_res'] = res\n",
    "    beatles[song_id]['harmony'] = resampled_harmony = resample_harmony(harmony,\n",
    "                                                                       beatles[song_id]['metadata']['num_beats'],\n",
    "                                                                       res=res)"
   ]
  },
  {
   "cell_type": "markdown",
   "id": "d0dc18df",
   "metadata": {},
   "source": [
    "Salvando o novo dicionário contendo as anotações e formações pertinentes sobre as músicas dos *The Beatles*."
   ]
  },
  {
   "cell_type": "code",
   "execution_count": 38,
   "id": "7b64defa",
   "metadata": {},
   "outputs": [],
   "source": [
    "with open('/storage/datasets/thiago.poppe/beatles/the_beatles.json', 'w') as fp:\n",
    "    json.dump(beatles, fp, indent=2)"
   ]
  }
 ],
 "metadata": {
  "kernelspec": {
   "display_name": "harmony",
   "language": "python",
   "name": "harmony"
  },
  "language_info": {
   "codemirror_mode": {
    "name": "ipython",
    "version": 3
   },
   "file_extension": ".py",
   "mimetype": "text/x-python",
   "name": "python",
   "nbconvert_exporter": "python",
   "pygments_lexer": "ipython3",
   "version": "3.10.14"
  }
 },
 "nbformat": 4,
 "nbformat_minor": 5
}
