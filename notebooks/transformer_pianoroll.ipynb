{
 "cells": [
  {
   "cell_type": "code",
   "execution_count": 1,
   "id": "f019f45d-10ff-4659-9962-a8d4f56c429c",
   "metadata": {},
   "outputs": [],
   "source": [
    "import torch\n",
    "import torch.nn as nn\n",
    "import h5py\n",
    "import sys\n",
    "sys.path.append('../')  # required to use harmony package\n",
    "\n",
    "from harmony.models.seq2seq import TransformerEncoder, TransformerDecoder, Seq2SeqTransformer"
   ]
  },
  {
   "cell_type": "code",
   "execution_count": 2,
   "id": "685ca355-6bb0-42b0-b4eb-09ab3b6701d4",
   "metadata": {},
   "outputs": [
    {
     "name": "stdout",
     "output_type": "stream",
     "text": [
      "Using device: cuda\n"
     ]
    }
   ],
   "source": [
    "device = torch.device('cuda' if torch.cuda.is_available() else 'cpu')\n",
    "print('Using device:', device)"
   ]
  },
  {
   "cell_type": "code",
   "execution_count": 3,
   "id": "d30271b8-2125-476d-ada3-c980d0eb6305",
   "metadata": {},
   "outputs": [
    {
     "name": "stdout",
     "output_type": "stream",
     "text": [
      "5316\n",
      "<KeysViewHDF5 ['labels', 'mask', 'pianoroll']>\n",
      "(6, 160)\n",
      "(1, 640, 12)\n",
      "[[12 12 12 12 12 12 12 12 12 12]\n",
      " [ 0  0  0  0  0  0  0  0  0  0]\n",
      " [ 4  4  4  4  4  4  4  4  4  4]\n",
      " [ 0  0  0  0  0  0  0  0  0  0]\n",
      " [ 1  1  1  1  1  1  1  1  1  1]\n",
      " [ 7  7  7  7  7  7  7  7  7  7]]\n",
      "[[[0. 0. 0. ... 0. 0. 1.]\n",
      "  [0. 0. 0. ... 0. 0. 1.]\n",
      "  [0. 0. 0. ... 0. 0. 1.]\n",
      "  ...\n",
      "  [0. 0. 0. ... 0. 0. 0.]\n",
      "  [0. 0. 0. ... 0. 0. 0.]\n",
      "  [0. 0. 0. ... 0. 0. 0.]]]\n"
     ]
    }
   ],
   "source": [
    "with h5py.File (\"/storage/datasets/thiago.poppe/BPS_FH/dataset/train.h5\",\"r\") as fp:\n",
    "    print(len(fp))\n",
    "    print(fp['data_0'].keys())\n",
    "    print(fp['data_0']['labels'][:].shape)\n",
    "    print(fp['data_0']['pianoroll'][:].shape)\n",
    "    print(fp['data_0']['labels'][:][:, :10])\n",
    "    print(fp['data_0']['pianoroll'][:])\n"
   ]
  },
  {
   "cell_type": "markdown",
   "id": "3cc310d0-03d4-4258-9aff-708230872c5a",
   "metadata": {},
   "source": [
    "Carregando Dados\n"
   ]
  },
  {
   "cell_type": "code",
   "execution_count": 4,
   "id": "d84f02b2-54ae-4ae1-ace0-691e7dc73cc0",
   "metadata": {},
   "outputs": [],
   "source": [
    "import h5py\n",
    "import pickle\n",
    "\n",
    "base_path = \"/storage/datasets/thiago.poppe/BPS_FH/dataset/\"\n",
    "splits = ['train', 'test', 'validation']\n",
    "\n",
    "label_train_dict = {}\n",
    "label_test_dict = {}\n",
    "label_validation_dict = {}\n",
    "\n",
    "all_labels = {'<sos>', '<eos>'}\n",
    "for nome_split in splits:\n",
    "    with h5py.File(f\"{base_path}{nome_split}.h5\", \"r\") as fp:\n",
    "        for dt in fp:\n",
    "            labels = fp[dt]['labels'][:]\n",
    "            transposed_labels = labels.T\n",
    "            \n",
    "            for row in transposed_labels:\n",
    "                label_str = ' '.join([str(num) for num in row])\n",
    "                all_labels.add(label_str)\n",
    "    \n",
    "token_dict = {string: i for i, string in enumerate(all_labels)}\n",
    "    \n",
    "    #with open(f\"{base_path}{nome_split}_token_dict.pkl\", 'wb') as f:\n",
    "        #pickle.dump(token_dict, f)\n",
    "\n",
    "    # if nome_split == 'train':\n",
    "    #     label_train_dict = token_dict\n",
    "    # elif nome_split == 'test':\n",
    "    #     label_test_dict = token_dict\n",
    "    # elif nome_split == 'validation':\n",
    "    #     label_validation_dict = token_dict\n",
    "\n",
    "    # print(f\"Dicionário de tokenização para o split {nome_split} salvo com sucesso\")\n",
    "\n",
    "# print(\"Dicionário para o conjunto de treinamento:\")\n",
    "# print(label_train_dict)\n",
    "# print(\"\\nDicionário para o conjunto de teste:\")\n",
    "# print(label_test_dict)\n",
    "# print(\"\\nDicionário para o conjunto de validação:\")\n",
    "# print(label_validation_dict)"
   ]
  },
  {
   "cell_type": "code",
   "execution_count": 5,
   "id": "dd09b775-fa93-425d-ae70-5e161ce20bcf",
   "metadata": {},
   "outputs": [
    {
     "data": {
      "text/plain": [
       "2794"
      ]
     },
     "execution_count": 5,
     "metadata": {},
     "output_type": "execute_result"
    }
   ],
   "source": [
    "len(token_dict)"
   ]
  },
  {
   "cell_type": "code",
   "execution_count": 6,
   "id": "b8b26a12-f9d3-41b3-baef-d4300d0d8b99",
   "metadata": {},
   "outputs": [],
   "source": [
    "import numpy as np\n",
    "from torch.utils.data import Dataset, DataLoader\n",
    "\n",
    "class PianoRollDataSet(Dataset):\n",
    "    def __init__(self, split):\n",
    "        self.filepath = f'/storage/datasets/thiago.poppe/BPS_FH/dataset/{split}.h5'\n",
    "        with h5py.File(self.filepath, 'r') as fp:\n",
    "            self.dataset_size = len(fp.keys())\n",
    "    \n",
    "    def __len__(self):\n",
    "        return self.dataset_size\n",
    "        \n",
    "    def __getitem__(self, idx):\n",
    "        with h5py.File(self.filepath, 'r') as fp:\n",
    "            data = fp[f'data_{idx}']\n",
    "            pianoroll = data['pianoroll'][:][0]\n",
    "            labels = data['labels'][:]\n",
    "            mask = data['mask'][:][0]\n",
    "\n",
    "        labels = np.array(list(map(lambda row: token_dict[' '.join([str(num) for num in row])], labels.T)))\n",
    "        return pianoroll, labels, mask"
   ]
  },
  {
   "cell_type": "code",
   "execution_count": 7,
   "id": "3bd50403-4be3-4b53-8ee4-860b8ff161e6",
   "metadata": {},
   "outputs": [
    {
     "name": "stdout",
     "output_type": "stream",
     "text": [
      "69\n"
     ]
    }
   ],
   "source": [
    "with h5py.File('/storage/datasets/thiago.poppe/BPS_FH/dataset/validation.h5', 'r') as fp:\n",
    "    print(len(fp))"
   ]
  },
  {
   "cell_type": "code",
   "execution_count": 8,
   "id": "11e65658-3db5-47d1-88b0-6896a15c5159",
   "metadata": {},
   "outputs": [
    {
     "data": {
      "text/plain": [
       "5316"
      ]
     },
     "execution_count": 8,
     "metadata": {},
     "output_type": "execute_result"
    }
   ],
   "source": [
    "train_dataset = PianoRollDataSet('train')\n",
    "\n",
    "test_dataset = PianoRollDataSet('test')\n",
    "valid_dataset = PianoRollDataSet('validation')\n",
    "\n",
    "len(train_dataset)\n"
   ]
  },
  {
   "cell_type": "code",
   "execution_count": 9,
   "id": "b8f03a7d-d3e3-4e33-8b6d-5f1ca32b1949",
   "metadata": {},
   "outputs": [
    {
     "data": {
      "text/plain": [
       "((640, 12), (160,), (160,))"
      ]
     },
     "execution_count": 9,
     "metadata": {},
     "output_type": "execute_result"
    }
   ],
   "source": [
    "pianoroll, labels, mask = train_dataset[0]\n",
    "pianoroll.shape, labels.shape, mask.shape"
   ]
  },
  {
   "cell_type": "code",
   "execution_count": 10,
   "id": "14c970a4-0eae-418a-b4e7-0ec3075c98e2",
   "metadata": {},
   "outputs": [],
   "source": [
    "from torch.nn.utils.rnn import pad_sequence"
   ]
  },
  {
   "cell_type": "code",
   "execution_count": 17,
   "id": "875729ad-006f-486d-9b28-76efcf325bf2",
   "metadata": {},
   "outputs": [],
   "source": [
    "def collate_fn(batches):\n",
    "    pianoroll = [torch.from_numpy(batch[0]).float() for batch in batches]\n",
    "    pianoroll = pad_sequence(pianoroll, batch_first=True)\n",
    "    \n",
    "    labels = [torch.from_numpy(batch[1]) for batch in batches]\n",
    "    labels = pad_sequence(labels, batch_first=True)\n",
    "\n",
    "    mask = [torch.from_numpy(batch[2]) for batch in batches]\n",
    "    mask = pad_sequence(mask, batch_first=True)\n",
    "\n",
    "    return pianoroll, labels, ~mask.bool()\n"
   ]
  },
  {
   "cell_type": "code",
   "execution_count": 18,
   "id": "5224cab5-1f46-45df-8b26-9b135c4b7078",
   "metadata": {},
   "outputs": [
    {
     "data": {
      "application/vnd.jupyter.widget-view+json": {
       "model_id": "d13ea19eb318430f98c6518eb28d7aae",
       "version_major": 2,
       "version_minor": 0
      },
      "text/plain": [
       "  0%|          | 0/1329 [00:00<?, ?it/s]"
      ]
     },
     "metadata": {},
     "output_type": "display_data"
    },
    {
     "data": {
      "application/vnd.jupyter.widget-view+json": {
       "model_id": "df9b5a61d21248a3a0ec8acf9ed2a592",
       "version_major": 2,
       "version_minor": 0
      },
      "text/plain": [
       "  0%|          | 0/18 [00:00<?, ?it/s]"
      ]
     },
     "metadata": {},
     "output_type": "display_data"
    },
    {
     "data": {
      "text/plain": [
       "(torch.Size([1, 640, 12]), torch.Size([1, 160]), torch.Size([1, 160]))"
      ]
     },
     "execution_count": 18,
     "metadata": {},
     "output_type": "execute_result"
    }
   ],
   "source": [
    "from tqdm.notebook import tqdm\n",
    "\n",
    "train_dataloader = DataLoader(train_dataset, batch_size=4, shuffle=True, collate_fn=collate_fn)\n",
    "len(train_dataloader)\n",
    "validation_dataloader = DataLoader(valid_dataset, batch_size=4, shuffle=True, collate_fn=collate_fn)\n",
    "len(train_dataloader)\n",
    "\n",
    "for pianoroll, labels, mask in tqdm(train_dataloader):\n",
    "    continue\n",
    "for pianoroll, labels, mask in tqdm(validation_dataloader):\n",
    "    continue\n",
    "    \n",
    "pianoroll.shape, labels.shape, mask.shape"
   ]
  },
  {
   "cell_type": "markdown",
   "id": "f9a30809-fe50-4c3a-96f5-ba6485120b5c",
   "metadata": {},
   "source": [
    "Definindo Modelo"
   ]
  },
  {
   "cell_type": "code",
   "execution_count": 19,
   "id": "e8a70698-b841-4c4a-bcc3-3799a0e68282",
   "metadata": {},
   "outputs": [
    {
     "name": "stdout",
     "output_type": "stream",
     "text": [
      "Number of learnable parameters: 49106\n",
      "Seq2SeqTransformer(\n",
      "  (encoder): TransformerEncoder(\n",
      "    (encoder): TransformerEncoder(\n",
      "      (layers): ModuleList(\n",
      "        (0): TransformerEncoderLayer(\n",
      "          (self_attn): MultiheadAttention(\n",
      "            (out_proj): NonDynamicallyQuantizableLinear(in_features=8, out_features=8, bias=True)\n",
      "          )\n",
      "          (linear1): Linear(in_features=8, out_features=16, bias=True)\n",
      "          (dropout): Dropout(p=0.1, inplace=False)\n",
      "          (linear2): Linear(in_features=16, out_features=8, bias=True)\n",
      "          (norm1): LayerNorm((8,), eps=1e-05, elementwise_affine=True)\n",
      "          (norm2): LayerNorm((8,), eps=1e-05, elementwise_affine=True)\n",
      "          (dropout1): Dropout(p=0.1, inplace=False)\n",
      "          (dropout2): Dropout(p=0.1, inplace=False)\n",
      "        )\n",
      "      )\n",
      "    )\n",
      "    (embedding): LinearEmbeddingLayer(\n",
      "      (embedding): Linear(in_features=12, out_features=8, bias=True)\n",
      "      (pos_encoding): PositionalEncoding(\n",
      "        (dropout): Dropout(p=0.1, inplace=False)\n",
      "      )\n",
      "    )\n",
      "  )\n",
      "  (decoder): TransformerDecoder(\n",
      "    (fc): Linear(in_features=8, out_features=2794, bias=True)\n",
      "    (decoder): TransformerDecoder(\n",
      "      (layers): ModuleList(\n",
      "        (0): TransformerDecoderLayer(\n",
      "          (self_attn): MultiheadAttention(\n",
      "            (out_proj): NonDynamicallyQuantizableLinear(in_features=8, out_features=8, bias=True)\n",
      "          )\n",
      "          (multihead_attn): MultiheadAttention(\n",
      "            (out_proj): NonDynamicallyQuantizableLinear(in_features=8, out_features=8, bias=True)\n",
      "          )\n",
      "          (linear1): Linear(in_features=8, out_features=16, bias=True)\n",
      "          (dropout): Dropout(p=0.1, inplace=False)\n",
      "          (linear2): Linear(in_features=16, out_features=8, bias=True)\n",
      "          (norm1): LayerNorm((8,), eps=1e-05, elementwise_affine=True)\n",
      "          (norm2): LayerNorm((8,), eps=1e-05, elementwise_affine=True)\n",
      "          (norm3): LayerNorm((8,), eps=1e-05, elementwise_affine=True)\n",
      "          (dropout1): Dropout(p=0.1, inplace=False)\n",
      "          (dropout2): Dropout(p=0.1, inplace=False)\n",
      "          (dropout3): Dropout(p=0.1, inplace=False)\n",
      "        )\n",
      "      )\n",
      "    )\n",
      "    (embedding): EmbeddingLayer(\n",
      "      (embedding): Embedding(2794, 8)\n",
      "      (pos_encoding): PositionalEncoding(\n",
      "        (dropout): Dropout(p=0.1, inplace=False)\n",
      "      )\n",
      "    )\n",
      "  )\n",
      ")\n"
     ]
    }
   ],
   "source": [
    "\n",
    "encoder = TransformerEncoder(in_features=12 , embedding_size=8, num_heads=1, dim_feedforward=16, num_layers=1)\n",
    "decoder = TransformerDecoder(vocab_size=len(token_dict), embedding_size=8, num_heads=1, dim_feedforward=16, num_layers=1)\n",
    "model = Seq2SeqTransformer(encoder, decoder).to(device)\n",
    "\n",
    "print('Number of learnable parameters:', sum(p.numel() for p in model.parameters()))\n",
    "print(model)"
   ]
  },
  {
   "cell_type": "code",
   "execution_count": 22,
   "id": "44884c9d-e05a-4221-ac84-fb8a16ea4066",
   "metadata": {},
   "outputs": [
    {
     "name": "stdout",
     "output_type": "stream",
     "text": [
      "Tamanho da sáida: torch.Size([4, 160, 2794])\n"
     ]
    }
   ],
   "source": [
    "src = torch.rand(4, 640, 12).to(device)\n",
    "tgt = torch.randint(low=0, high=len(token_dict), size=(4, 160)).long().to(device)\n",
    "\n",
    "padding_mask = torch.zeros(4, 160).bool().to(device)  # padding mask da entrada\n",
    "tgt_causal_mask = nn.Transformer.generate_square_subsequent_mask(160).to(device)  # máscara causal tem que ter o mesmo tamanho do seq_length da saída\n",
    "\n",
    "outputs = model(src, tgt, tgt_mask=tgt_causal_mask, padding_mask=padding_mask)\n",
    "print('Tamanho da sáida:', outputs.shape)  # (batch_size, seq_length, vocab_size)"
   ]
  },
  {
   "cell_type": "markdown",
   "id": "50e36684-d47e-4d54-ba2b-a18e8ea31704",
   "metadata": {},
   "source": [
    "Treinando o Modelo"
   ]
  },
  {
   "cell_type": "code",
   "execution_count": 34,
   "id": "c4e7cf08-4989-4436-8bfb-678502949c84",
   "metadata": {},
   "outputs": [],
   "source": [
    "from tqdm.notebook import tqdm\n",
    "\n",
    "def train(model, train_dataloader, criterion, optimizer):\n",
    "    train_loss = 0.0\n",
    "    train_acc = 0.0\n",
    "    \n",
    "    model.train()\n",
    "    for pianoroll, label, padding_mask in tqdm(train_dataloader):\n",
    "        pianoroll = pianoroll.to(device)\n",
    "\n",
    "        batch_size = 4\n",
    "        sos_tokens = torch.full((batch_size, 1), fill_value=token_dict['<sos>'])\n",
    "        eos_tokens = torch.full((batch_size, 1), fill_value=token_dict['<eos>'])\n",
    "\n",
    "        # print(eos_tokens, sos_tokens, label)\n",
    "        # print(eos_tokens.shape, sos_tokens.shape, label.shape)\n",
    "        decoder_input = torch.cat([sos_tokens, label], dim=1).to(device)\n",
    "        decoder_target = torch.cat([label, eos_tokens], dim=1).to(device)\n",
    "\n",
    "        falses = torch.full((batch_size, 1), fill_value=False)\n",
    "        padding_mask = torch.cat([falses, padding_mask], dim=1).to(device)\n",
    "        tgt_causal_mask = nn.Transformer.generate_square_subsequent_mask(decoder_input.size(1)).to(device)\n",
    "        \n",
    "        outputs = model(pianoroll, decoder_input, tgt_mask=tgt_causal_mask, padding_mask=padding_mask)\n",
    "        loss = criterion(outputs.transpose(1,2), decoder_target)\n",
    "\n",
    "        optimizer.zero_grad()\n",
    "        loss.backward()\n",
    "        optimizer.step()\n",
    "\n",
    "        train_loss += loss.item()\n",
    "\n",
    "        predictions = torch.argmax(outputs, dim=-1)\n",
    "        train_acc += torch.sum(predictions.flatten() == decoder_target.flatten()) / len(predictions.flatten())\n",
    "    \n",
    "    train_loss /= len(train_dataloader)\n",
    "    train_acc /= len(train_dataloader)\n",
    "    \n",
    "    return train_loss, train_acc"
   ]
  },
  {
   "cell_type": "code",
   "execution_count": 35,
   "id": "8baf0bd0-3d91-490d-8710-7dab332840a4",
   "metadata": {},
   "outputs": [
    {
     "data": {
      "application/vnd.jupyter.widget-view+json": {
       "model_id": "a8a8c74652924eee8cb25f24dfdd2b6c",
       "version_major": 2,
       "version_minor": 0
      },
      "text/plain": [
       "  0%|          | 0/1329 [00:00<?, ?it/s]"
      ]
     },
     "metadata": {},
     "output_type": "display_data"
    },
    {
     "data": {
      "application/vnd.jupyter.widget-view+json": {
       "model_id": "e600782c25494a92a22308d7bde5bb85",
       "version_major": 2,
       "version_minor": 0
      },
      "text/plain": [
       "  0%|          | 0/1329 [00:00<?, ?it/s]"
      ]
     },
     "metadata": {},
     "output_type": "display_data"
    },
    {
     "name": "stdout",
     "output_type": "stream",
     "text": [
      "Epoch 2/20:\n",
      " - Train loss: 4.19266, train accuracy: 0.31928\n"
     ]
    },
    {
     "data": {
      "application/vnd.jupyter.widget-view+json": {
       "model_id": "b1cca52976f04ff8896f7b1a98ce978c",
       "version_major": 2,
       "version_minor": 0
      },
      "text/plain": [
       "  0%|          | 0/1329 [00:00<?, ?it/s]"
      ]
     },
     "metadata": {},
     "output_type": "display_data"
    },
    {
     "data": {
      "application/vnd.jupyter.widget-view+json": {
       "model_id": "e8435e5429b34b0b94d1f375ff9b747d",
       "version_major": 2,
       "version_minor": 0
      },
      "text/plain": [
       "  0%|          | 0/1329 [00:00<?, ?it/s]"
      ]
     },
     "metadata": {},
     "output_type": "display_data"
    },
    {
     "name": "stdout",
     "output_type": "stream",
     "text": [
      "Epoch 4/20:\n",
      " - Train loss: 3.29840, train accuracy: 0.46144\n"
     ]
    },
    {
     "data": {
      "application/vnd.jupyter.widget-view+json": {
       "model_id": "bf3c3fd9d08148759a219f68bd6dbd0f",
       "version_major": 2,
       "version_minor": 0
      },
      "text/plain": [
       "  0%|          | 0/1329 [00:00<?, ?it/s]"
      ]
     },
     "metadata": {},
     "output_type": "display_data"
    },
    {
     "data": {
      "application/vnd.jupyter.widget-view+json": {
       "model_id": "960fdd359637496b8c342ad757c5d0a8",
       "version_major": 2,
       "version_minor": 0
      },
      "text/plain": [
       "  0%|          | 0/1329 [00:00<?, ?it/s]"
      ]
     },
     "metadata": {},
     "output_type": "display_data"
    },
    {
     "name": "stdout",
     "output_type": "stream",
     "text": [
      "Epoch 6/20:\n",
      " - Train loss: 2.87999, train accuracy: 0.52058\n"
     ]
    },
    {
     "data": {
      "application/vnd.jupyter.widget-view+json": {
       "model_id": "dd770b09b62c434583d72231378e1ff1",
       "version_major": 2,
       "version_minor": 0
      },
      "text/plain": [
       "  0%|          | 0/1329 [00:00<?, ?it/s]"
      ]
     },
     "metadata": {},
     "output_type": "display_data"
    },
    {
     "data": {
      "application/vnd.jupyter.widget-view+json": {
       "model_id": "dd201ad7b85949d58f0e2c78d733e189",
       "version_major": 2,
       "version_minor": 0
      },
      "text/plain": [
       "  0%|          | 0/1329 [00:00<?, ?it/s]"
      ]
     },
     "metadata": {},
     "output_type": "display_data"
    },
    {
     "name": "stdout",
     "output_type": "stream",
     "text": [
      "Epoch 8/20:\n",
      " - Train loss: 2.62265, train accuracy: 0.55954\n"
     ]
    },
    {
     "data": {
      "application/vnd.jupyter.widget-view+json": {
       "model_id": "18a4b01d090b41bcace540545ede4c73",
       "version_major": 2,
       "version_minor": 0
      },
      "text/plain": [
       "  0%|          | 0/1329 [00:00<?, ?it/s]"
      ]
     },
     "metadata": {},
     "output_type": "display_data"
    },
    {
     "data": {
      "application/vnd.jupyter.widget-view+json": {
       "model_id": "68ee479a377a4749a585e6499ae799a5",
       "version_major": 2,
       "version_minor": 0
      },
      "text/plain": [
       "  0%|          | 0/1329 [00:00<?, ?it/s]"
      ]
     },
     "metadata": {},
     "output_type": "display_data"
    },
    {
     "name": "stdout",
     "output_type": "stream",
     "text": [
      "Epoch 10/20:\n",
      " - Train loss: 2.44093, train accuracy: 0.58735\n"
     ]
    },
    {
     "data": {
      "application/vnd.jupyter.widget-view+json": {
       "model_id": "0de5dc0362074211863086d895ed43cd",
       "version_major": 2,
       "version_minor": 0
      },
      "text/plain": [
       "  0%|          | 0/1329 [00:00<?, ?it/s]"
      ]
     },
     "metadata": {},
     "output_type": "display_data"
    },
    {
     "data": {
      "application/vnd.jupyter.widget-view+json": {
       "model_id": "2a85d91a700f437985c3805cdd9ec444",
       "version_major": 2,
       "version_minor": 0
      },
      "text/plain": [
       "  0%|          | 0/1329 [00:00<?, ?it/s]"
      ]
     },
     "metadata": {},
     "output_type": "display_data"
    },
    {
     "name": "stdout",
     "output_type": "stream",
     "text": [
      "Epoch 12/20:\n",
      " - Train loss: 2.30932, train accuracy: 0.60746\n"
     ]
    },
    {
     "data": {
      "application/vnd.jupyter.widget-view+json": {
       "model_id": "98ce7226a9e14362a62200695d270461",
       "version_major": 2,
       "version_minor": 0
      },
      "text/plain": [
       "  0%|          | 0/1329 [00:00<?, ?it/s]"
      ]
     },
     "metadata": {},
     "output_type": "display_data"
    },
    {
     "data": {
      "application/vnd.jupyter.widget-view+json": {
       "model_id": "7e7caad5018d4d609e867cc6ed6ac896",
       "version_major": 2,
       "version_minor": 0
      },
      "text/plain": [
       "  0%|          | 0/1329 [00:00<?, ?it/s]"
      ]
     },
     "metadata": {},
     "output_type": "display_data"
    },
    {
     "name": "stdout",
     "output_type": "stream",
     "text": [
      "Epoch 14/20:\n",
      " - Train loss: 2.20980, train accuracy: 0.62342\n"
     ]
    },
    {
     "data": {
      "application/vnd.jupyter.widget-view+json": {
       "model_id": "9ec1dea353d141ed874600cfc5fc96c9",
       "version_major": 2,
       "version_minor": 0
      },
      "text/plain": [
       "  0%|          | 0/1329 [00:00<?, ?it/s]"
      ]
     },
     "metadata": {},
     "output_type": "display_data"
    },
    {
     "data": {
      "application/vnd.jupyter.widget-view+json": {
       "model_id": "5a00f2f5b13a4dc3ab5bb81527573a46",
       "version_major": 2,
       "version_minor": 0
      },
      "text/plain": [
       "  0%|          | 0/1329 [00:00<?, ?it/s]"
      ]
     },
     "metadata": {},
     "output_type": "display_data"
    },
    {
     "name": "stdout",
     "output_type": "stream",
     "text": [
      "Epoch 16/20:\n",
      " - Train loss: 2.12845, train accuracy: 0.63629\n"
     ]
    },
    {
     "data": {
      "application/vnd.jupyter.widget-view+json": {
       "model_id": "6a1f98cda3874110a7f957ae8a3c4d70",
       "version_major": 2,
       "version_minor": 0
      },
      "text/plain": [
       "  0%|          | 0/1329 [00:00<?, ?it/s]"
      ]
     },
     "metadata": {},
     "output_type": "display_data"
    },
    {
     "data": {
      "application/vnd.jupyter.widget-view+json": {
       "model_id": "2d414fbbad9a4c7699a16f22845daca5",
       "version_major": 2,
       "version_minor": 0
      },
      "text/plain": [
       "  0%|          | 0/1329 [00:00<?, ?it/s]"
      ]
     },
     "metadata": {},
     "output_type": "display_data"
    },
    {
     "name": "stdout",
     "output_type": "stream",
     "text": [
      "Epoch 18/20:\n",
      " - Train loss: 2.06257, train accuracy: 0.64667\n"
     ]
    },
    {
     "data": {
      "application/vnd.jupyter.widget-view+json": {
       "model_id": "2594ce980ad343f5b1991618f063e79d",
       "version_major": 2,
       "version_minor": 0
      },
      "text/plain": [
       "  0%|          | 0/1329 [00:00<?, ?it/s]"
      ]
     },
     "metadata": {},
     "output_type": "display_data"
    },
    {
     "data": {
      "application/vnd.jupyter.widget-view+json": {
       "model_id": "29a1fcb66d484e61826e310524e4af34",
       "version_major": 2,
       "version_minor": 0
      },
      "text/plain": [
       "  0%|          | 0/1329 [00:00<?, ?it/s]"
      ]
     },
     "metadata": {},
     "output_type": "display_data"
    },
    {
     "name": "stdout",
     "output_type": "stream",
     "text": [
      "Epoch 20/20:\n",
      " - Train loss: 2.00775, train accuracy: 0.65514\n"
     ]
    }
   ],
   "source": [
    "import torch.optim as optim\n",
    "\n",
    "num_epochs = 20\n",
    "criterion = nn.CrossEntropyLoss()\n",
    "optimizer = optim.Adam(model.parameters(), lr=0.001)\n",
    "\n",
    "train_accs = []\n",
    "valid_accs = []\n",
    "\n",
    "train_losses = []\n",
    "valid_losses = []\n",
    "for epoch in range(1, num_epochs+1):\n",
    "    train_loss, train_acc = train(model, train_dataloader, criterion, optimizer)\n",
    "    #valid_loss, valid_acc = validate(model, valid_dataloader, criterion)\n",
    "\n",
    "    if epoch % 2 == 0:\n",
    "        print(f'Epoch {epoch}/{num_epochs}:')\n",
    "        print(f' - Train loss: {train_loss:.5f}, train accuracy: {train_acc:.5f}')\n",
    "        #print(f' - Valid loss: {valid_loss:.5f}, valid accuracy: {valid_acc:.5f}', end='\\n\\n')\n",
    "\n",
    "        train_losses.append(train_loss)\n",
    "        #valid_losses.append(valid_loss)\n",
    "\n",
    "        train_accs.append(train_acc)\n",
    "        #valid_accs.append(valid_acc)"
   ]
  },
  {
   "cell_type": "code",
   "execution_count": null,
   "id": "561cb943-d387-4c0a-a99d-c975f1bec733",
   "metadata": {},
   "outputs": [],
   "source": []
  },
  {
   "cell_type": "code",
   "execution_count": null,
   "id": "25d6f505-3e97-409e-9a27-9d1e52b523b4",
   "metadata": {},
   "outputs": [],
   "source": []
  }
 ],
 "metadata": {
  "kernelspec": {
   "display_name": "harmony",
   "language": "python",
   "name": "harmony"
  },
  "language_info": {
   "codemirror_mode": {
    "name": "ipython",
    "version": 3
   },
   "file_extension": ".py",
   "mimetype": "text/x-python",
   "name": "python",
   "nbconvert_exporter": "python",
   "pygments_lexer": "ipython3",
   "version": "3.10.13"
  }
 },
 "nbformat": 4,
 "nbformat_minor": 5
}
